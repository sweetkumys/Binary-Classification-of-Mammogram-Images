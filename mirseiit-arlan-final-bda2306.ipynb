{
 "cells": [
  {
   "cell_type": "code",
   "execution_count": 1,
   "id": "8b9e2b6b-3cdd-4449-958d-34a68f931020",
   "metadata": {},
   "outputs": [
    {
     "name": "stdout",
     "output_type": "stream",
     "text": [
      "Processed dataset saved as 'processed_data.csv'\n",
      "                           image_id  Age  View Position  Laterality  \\\n",
      "0  d8125545210c08e1b1793a5af6458ee2   53              0           0   \n",
      "1  290c658f4e75a3f83ec78a847414297c   53              1           0   \n",
      "2  cd0fc7bc53ac632a11643ac4cc91002a   53              0           1   \n",
      "3  71638b1e853799f227492bfb08a01491   53              1           1   \n",
      "4  dd9ce3288c0773e006a294188aadba8e   42              0           0   \n",
      "\n",
      "   Breast Density  target  \n",
      "0               2       1  \n",
      "1               2       1  \n",
      "2               2       1  \n",
      "3               2       1  \n",
      "4               2       0  \n"
     ]
    }
   ],
   "source": [
    "import pandas as pd\n",
    "from sklearn.preprocessing import LabelEncoder\n",
    "\n",
    "#Read CSV files for breast annotations, finding annotations, metadata\n",
    "breast_annotations = pd.read_csv(\"breast-level_annotations.csv\")\n",
    "finding_annotations = pd.read_csv(\"finding_annotations.csv\")\n",
    "metadata = pd.read_csv(\"metadata.csv\")\n",
    "\n",
    "#Standardize col names\n",
    "breast_annotations.rename(columns={\"breast_birads\": \"BI-RADS\", \"view_position\": \"View Position\", \"laterality\": \"Laterality\", \"breast_density\": \"Breast Density\"}, inplace=True)\n",
    "metadata.rename(columns={\"Patient's Age\": \"Age\"}, inplace=True)\n",
    "\n",
    "#Merge datasets on image_id\n",
    "merged_df = breast_annotations.merge(metadata, left_on=\"image_id\", right_on=\"SOP Instance UID\", how=\"left\")\n",
    "merged_df = merged_df.merge(finding_annotations, on=\"image_id\", how=\"left\")\n",
    "selected_columns = [\"image_id\", \"BI-RADS\", \"Age\", \"View Position_x\", \"Laterality\", \"Breast Density\"]\n",
    "merged_df = merged_df[selected_columns]\n",
    "merged_df.rename(columns={\"View Position_x\": \"View Position\"}, inplace=True)\n",
    "\n",
    "#Convert BI-RADS to binary target\n",
    "merged_df[\"target\"] = merged_df[\"BI-RADS\"].apply(lambda x: 0 if x == \"BI-RADS 1\" else 1)\n",
    "\n",
    "#Encode categorical cols with label encoder; save encoders\n",
    "label_encoders = {}\n",
    "for col in [\"View Position\", \"Laterality\", \"Breast Density\"]:\n",
    "    le = LabelEncoder()\n",
    "    merged_df[col] = le.fit_transform(merged_df[col])\n",
    "    label_encoders[col] = le  # Save for later use\n",
    "\n",
    "#Fix Age: remove 'Y', make numeric, fill missing with median, convert to int\n",
    "merged_df[\"Age\"] = pd.to_numeric(merged_df[\"Age\"].astype(str).str.replace(\"Y\", \"\", regex=False), errors=\"coerce\")\n",
    "merged_df[\"Age\"] = merged_df[\"Age\"].fillna(merged_df[\"Age\"].median())  # Explicit assignment\n",
    "merged_df[\"Age\"] = merged_df[\"Age\"].astype(int)\n",
    "merged_df.drop(columns=[\"BI-RADS\"], inplace=True)\n",
    "\n",
    "merged_df.to_csv(\"processed_data.csv\", index=False)\n",
    "print(\"Processed dataset saved as 'processed_data.csv'\")\n",
    "\n",
    "print(merged_df.head())"
   ]
  },
  {
   "cell_type": "code",
   "execution_count": 6,
   "id": "183a1ec5-b064-420b-bbae-e075f783c70b",
   "metadata": {},
   "outputs": [
    {
     "name": "stderr",
     "output_type": "stream",
     "text": [
      "/opt/anaconda3/lib/python3.12/site-packages/sklearn/metrics/_classification.py:1509: UndefinedMetricWarning: Precision is ill-defined and being set to 0.0 in labels with no predicted samples. Use `zero_division` parameter to control this behavior.\n",
      "  _warn_prf(average, modifier, f\"{metric.capitalize()} is\", len(result))\n",
      "/opt/anaconda3/lib/python3.12/site-packages/sklearn/metrics/_classification.py:1509: UndefinedMetricWarning: Precision is ill-defined and being set to 0.0 in labels with no predicted samples. Use `zero_division` parameter to control this behavior.\n",
      "  _warn_prf(average, modifier, f\"{metric.capitalize()} is\", len(result))\n",
      "/opt/anaconda3/lib/python3.12/site-packages/sklearn/metrics/_classification.py:1509: UndefinedMetricWarning: Precision is ill-defined and being set to 0.0 in labels with no predicted samples. Use `zero_division` parameter to control this behavior.\n",
      "  _warn_prf(average, modifier, f\"{metric.capitalize()} is\", len(result))\n"
     ]
    },
    {
     "name": "stdout",
     "output_type": "stream",
     "text": [
      "Model: Logistic Regression\n",
      "Accuracy: 0.6545\n",
      "Classification Report:\n",
      "               precision    recall  f1-score   support\n",
      "\n",
      "           0       0.65      1.00      0.79      2682\n",
      "           1       0.00      0.00      0.00      1416\n",
      "\n",
      "    accuracy                           0.65      4098\n",
      "   macro avg       0.33      0.50      0.40      4098\n",
      "weighted avg       0.43      0.65      0.52      4098\n",
      "\n",
      "--------------------------------------------------\n",
      "Model: SVM\n",
      "Accuracy: 0.6640\n",
      "Classification Report:\n",
      "               precision    recall  f1-score   support\n",
      "\n",
      "           0       0.66      0.99      0.79      2682\n",
      "           1       0.68      0.05      0.10      1416\n",
      "\n",
      "    accuracy                           0.66      4098\n",
      "   macro avg       0.67      0.52      0.44      4098\n",
      "weighted avg       0.67      0.66      0.55      4098\n",
      "\n",
      "--------------------------------------------------\n",
      "Model: Decision Tree\n",
      "Accuracy: 0.6664\n",
      "Classification Report:\n",
      "               precision    recall  f1-score   support\n",
      "\n",
      "           0       0.67      0.97      0.79      2682\n",
      "           1       0.61      0.10      0.17      1416\n",
      "\n",
      "    accuracy                           0.67      4098\n",
      "   macro avg       0.64      0.53      0.48      4098\n",
      "weighted avg       0.65      0.67      0.58      4098\n",
      "\n",
      "--------------------------------------------------\n",
      "Model: Random Forest\n",
      "Accuracy: 0.6618\n",
      "Classification Report:\n",
      "               precision    recall  f1-score   support\n",
      "\n",
      "           0       0.67      0.96      0.79      2682\n",
      "           1       0.56      0.10      0.17      1416\n",
      "\n",
      "    accuracy                           0.66      4098\n",
      "   macro avg       0.61      0.53      0.48      4098\n",
      "weighted avg       0.63      0.66      0.57      4098\n",
      "\n",
      "--------------------------------------------------\n",
      "Model: k-NN\n",
      "Accuracy: 0.6049\n",
      "Classification Report:\n",
      "               precision    recall  f1-score   support\n",
      "\n",
      "           0       0.67      0.80      0.73      2682\n",
      "           1       0.38      0.24      0.29      1416\n",
      "\n",
      "    accuracy                           0.60      4098\n",
      "   macro avg       0.52      0.52      0.51      4098\n",
      "weighted avg       0.57      0.60      0.58      4098\n",
      "\n",
      "--------------------------------------------------\n"
     ]
    }
   ],
   "source": [
    "import pandas as pd\n",
    "from sklearn.model_selection import train_test_split\n",
    "from sklearn.preprocessing import StandardScaler\n",
    "from sklearn.linear_model import LogisticRegression\n",
    "from sklearn.svm import SVC\n",
    "from sklearn.tree import DecisionTreeClassifier\n",
    "from sklearn.ensemble import RandomForestClassifier\n",
    "from sklearn.neighbors import KNeighborsClassifier\n",
    "from sklearn.metrics import accuracy_score, classification_report\n",
    "\n",
    "df = pd.read_csv(\"processed_data.csv\")\n",
    "\n",
    "#Set features (X) and target (y)\n",
    "X = df.drop(columns=[\"image_id\", \"target\"])  # Remove non-numeric columns\n",
    "y = df[\"target\"]\n",
    "\n",
    "#Split into train and test sets (80% train, 20% test)\n",
    "X_train, X_test, y_train, y_test = train_test_split(X, y, test_size=0.2, random_state=42, stratify=y)\n",
    "\n",
    "#Standardize numeric feature (Age)\n",
    "scaler = StandardScaler()\n",
    "X_train[\"Age\"] = scaler.fit_transform(X_train[[\"Age\"]])\n",
    "X_test[\"Age\"] = scaler.transform(X_test[[\"Age\"]])\n",
    "\n",
    "#Set up models\n",
    "models = {\n",
    "    \"Logistic Regression\": LogisticRegression(),\n",
    "    \"SVM\": SVC(probability=True),\n",
    "    \"Decision Tree\": DecisionTreeClassifier(),\n",
    "    \"Random Forest\": RandomForestClassifier(),\n",
    "    \"k-NN\": KNeighborsClassifier()\n",
    "}\n",
    "\n",
    "#Train and evaluate models\n",
    "results = {}\n",
    "for name, model in models.items():\n",
    "    model.fit(X_train, y_train)\n",
    "    y_pred = model.predict(X_test)\n",
    "    accuracy = accuracy_score(y_test, y_pred)\n",
    "    report = classification_report(y_test, y_pred)\n",
    "\n",
    "    results[name] = {\n",
    "        \"Accuracy\": accuracy,\n",
    "        \"Report\": report\n",
    "    }\n",
    "\n",
    "for model, metrics in results.items():\n",
    "    print(f\"Model: {model}\")\n",
    "    print(f\"Accuracy: {metrics['Accuracy']:.4f}\")\n",
    "    print(\"Classification Report:\\n\", metrics[\"Report\"])\n",
    "    print(\"-\" * 50)\n"
   ]
  },
  {
   "cell_type": "code",
   "execution_count": 3,
   "id": "372d5019-1fe9-4f86-a346-af6a86806d0b",
   "metadata": {},
   "outputs": [
    {
     "name": "stdout",
     "output_type": "stream",
     "text": [
      "Total Unique Series IDs in CSV: 5000\n",
      "Total Image Folders: 5001\n",
      "Matching Series IDs: 5000 / 5000\n",
      "Example missing series IDs: []\n"
     ]
    }
   ],
   "source": [
    "import pandas as pd\n",
    "import os\n",
    "\n",
    "breast_annotations = pd.read_csv(\"breast-level_annotations.csv\")\n",
    "unique_series_ids = breast_annotations[\"study_id\"].unique()\n",
    "\n",
    "#Get list of folders in images3/\n",
    "image_folder_path = \"images3\"\n",
    "image_folders = os.listdir(image_folder_path)\n",
    "matching_series = [series_id for series_id in unique_series_ids if str(series_id) in image_folders]\n",
    "\n",
    "print(f\"Total Unique Series IDs in CSV: {len(unique_series_ids)}\")\n",
    "print(f\"Total Image Folders: {len(image_folders)}\")\n",
    "print(f\"Matching Series IDs: {len(matching_series)} / {len(unique_series_ids)}\")\n",
    "missing_series = [series_id for series_id in unique_series_ids if str(series_id) not in image_folders]\n",
    "print(f\"Example missing series IDs: {missing_series[:5]}\")\n"
   ]
  },
  {
   "cell_type": "code",
   "execution_count": 4,
   "id": "f03680c4-f31e-4819-84c8-78f89df7e0b9",
   "metadata": {},
   "outputs": [],
   "source": [
    "import cv2\n",
    "import numpy as np\n",
    "import os\n",
    "import pandas as pd\n",
    "\n",
    "# Define image size\n",
    "IMG_SIZE = (224, 224)\n",
    "breast_annotations = pd.read_csv(\"breast-level_annotations.csv\")\n",
    "\n",
    "#Mapping from image_id to study_id\n",
    "image_id_to_study = dict(zip(breast_annotations[\"image_id\"], breast_annotations[\"study_id\"]))\n",
    "image_folder_path = \"images3\"\n",
    "\n",
    "def load_image(image_id):\n",
    "    \"\"\"Loads an image using study_id as folder and image_id as filename.\"\"\"\n",
    "    study_id = image_id_to_study.get(image_id, None)  \n",
    "    \n",
    "    if study_id is None:\n",
    "        print(f\"❌ No study_id found for image_id: {image_id}\")\n",
    "        return np.zeros(IMG_SIZE[0] * IMG_SIZE[1])  \n",
    "    \n",
    "    #Full path to the image\n",
    "    image_path = os.path.join(image_folder_path, str(study_id), f\"{image_id}.jpg\")\n",
    "    \n",
    "    if not os.path.exists(image_path):\n",
    "        print(f\"❌ Image not found: {image_path}\")\n",
    "        return np.zeros(IMG_SIZE[0] * IMG_SIZE[1])  \n",
    "    \n",
    "    #Load\n",
    "    image = cv2.imread(image_path, cv2.IMREAD_GRAYSCALE)  \n",
    "    \n",
    "    if image is None:\n",
    "        print(f\"❌ Failed to load image: {image_path}\")\n",
    "        return np.zeros(IMG_SIZE[0] * IMG_SIZE[1])  \n",
    "    \n",
    "    #Resize, normalize, and flatten\n",
    "    image = cv2.resize(image, IMG_SIZE)  \n",
    "    image = image.flatten() / 255.0  \n",
    "    \n",
    "    #Print only a few successful loads\n",
    "    if np.random.rand() < 0.001:\n",
    "        print(f\"✅ Successfully loaded: {image_path}\")\n",
    "    \n",
    "    return image\n"
   ]
  },
  {
   "cell_type": "code",
   "execution_count": 5,
   "id": "8aee0499-9475-44fe-91d2-7a946ad19d1a",
   "metadata": {
    "scrolled": true
   },
   "outputs": [
    {
     "name": "stdout",
     "output_type": "stream",
     "text": [
      "❌ Failed to load image: images3/2d80c57224957fc549957e28fbe00a96/10fdb3727c2284f8a62728a5a377e64a.jpg\n",
      "❌ Failed to load image: images3/d20e854e243eb765409347b523b5af8f/b9e0699d03f5f5e3ea93bb77b76290e7.jpg\n",
      "❌ Failed to load image: images3/d20e854e243eb765409347b523b5af8f/9be3ba5c18018eea5170ea4fdfb433fd.jpg\n",
      "❌ Failed to load image: images3/b3c00c949e5dba771bb225644f667b8a/0ea0230273cd82a016b0a7de30d2a0cc.jpg\n",
      "❌ Failed to load image: images3/b3c00c949e5dba771bb225644f667b8a/9e1fc8b0627b409cc3281643023f4b3d.jpg\n",
      "❌ Failed to load image: images3/64a11835afeab324c3161f08e21e0f8e/b5be8bf327e235066f65081f6636664c.jpg\n",
      "❌ Failed to load image: images3/a6fe0f9f92810debf4f086815cee72d2/051144a61d3f6288c36bbd79be5a0a96.jpg\n",
      "❌ Failed to load image: images3/a6fe0f9f92810debf4f086815cee72d2/d57cc8b898821490662e792804057265.jpg\n",
      "❌ Failed to load image: images3/e918d30cfad5b412496285cc3f49d582/b29708792468e2e3916d0f0bd683a2cc.jpg\n",
      "❌ Failed to load image: images3/e918d30cfad5b412496285cc3f49d582/fae50db4b8bfc26e8726bff3ba93503c.jpg\n",
      "❌ Failed to load image: images3/e918d30cfad5b412496285cc3f49d582/68ecc323a6e90037511f017c518b770f.jpg\n",
      "❌ Failed to load image: images3/0196c94d24cccc61a51bd76a3ee581f2/a27fbb6a347cc77511e33de0c14c8bdc.jpg\n",
      "❌ Failed to load image: images3/b9d9e040a3b805990f014d12c7e59f74/e84054a207d9cae45f4acf61bfacb0ba.jpg\n",
      "❌ Failed to load image: images3/4c09054986ba9b6d9b754a24d3c724c3/8d4e4daaa3d75d18d987e615eacdf0ce.jpg\n",
      "✅ Successfully loaded: images3/035d8eb3c33b11cdebaf600e9666d351/b71161e6db0903056c1fc113917d4662.jpg\n",
      "✅ Successfully loaded: images3/6bbf6d4c01bf26684c8ad029bca72f40/e7dc34b01a22613ed7b52a1217fb9f92.jpg\n",
      "✅ Successfully loaded: images3/9c6dee6c1f43231d313ab3c39581bdbc/0433c111db494f970a6cfb6cb8027f53.jpg\n",
      "✅ Successfully loaded: images3/bd4a5bacc4a53667f8dcfb1bc28f7370/5f3bc5ed1dc684185fd49b0e5cf2f732.jpg\n",
      "✅ Successfully loaded: images3/c8c4ad97a63b2266a85a4c3970c62445/96b9c0bf39887d45830fa808b7defcbc.jpg\n",
      "✅ Successfully loaded: images3/89046cd5830aaae611ba05b53c6c5183/6f4ffdc36c9438bed395c6f689565d21.jpg\n",
      "❌ Failed to load image: images3/79411107a1d3f9720f7671b4c3213b86/7eb26c218ec30543676754321158075c.jpg\n",
      "❌ Failed to load image: images3/1e182def39e835d4a8d205eb440a338f/71d708c45c5d71af2ee6b153d1eceb49.jpg\n",
      "❌ Failed to load image: images3/1e182def39e835d4a8d205eb440a338f/19382316f3240d244b802c43f4d8d584.jpg\n",
      "❌ Failed to load image: images3/30122e2556fa47b2e9ceda47b0e589ed/27e69981064bb25f70350d0d6d2b40a4.jpg\n",
      "❌ Failed to load image: images3/30122e2556fa47b2e9ceda47b0e589ed/582e84ff2e0db1555a8f3b9206ba5d88.jpg\n",
      "✅ Successfully loaded: images3/2ef5fba7c70432c284692aed3cee1afb/3f5e5273c6a0d514769727da31d0653f.jpg\n",
      "✅ Successfully loaded: images3/030561532b801ef4b623657ebee557bd/032ab9e0ecd5fd673517ffa3eb805d15.jpg\n",
      "✅ Successfully loaded: images3/e09a0c30022e2b8e1fdbe35b98fe7890/22d47b110704efce8157d07953fc2335.jpg\n",
      "✅ Successfully loaded: images3/99085bcdb4fbd92dcd402e3a2674834f/8f871275ccff166e2ebc012ed7143e1b.jpg\n",
      "✅ Successfully loaded: images3/6ebd67a3a2248a8a90ffbb17e50bc9ef/19b8220c7b7300ddd3c8f6a30c34c10e.jpg\n",
      "✅ Successfully loaded: images3/fea772963c49e2f7d77e1b220f122baf/8336a52f1c5c5b2345e7a33692bd0c29.jpg\n",
      "✅ Successfully loaded: images3/cd8f3d993b89a804ff9c861119834212/9b7568cdbc2039752db59d4c8a21941d.jpg\n",
      "✅ Successfully loaded: images3/d1808200af6ccda3be8abce5c9b4980f/b7ad3c4443bbda2118f925d86f44da1e.jpg\n",
      "✅ Successfully loaded: images3/e30924fc9a7ddc8fc288ad0dfe85fca3/87e85382d11c0ce06629f156ee567dc2.jpg\n",
      "✅ Successfully loaded: images3/7222be56af29925b903a997a0d9a494c/60d2069b1a6b86efe1961c7796c3974e.jpg\n",
      "❌ Failed to load image: images3/9f36f16973abcf0739a320d5e1eb7318/843da51793c433d0084dcc91b36bf0c7.jpg\n",
      "❌ Failed to load image: images3/9f36f16973abcf0739a320d5e1eb7318/1edc00d1dd0417b6893463ee233b3f11.jpg\n",
      "✅ Successfully loaded: images3/fa9226b8d31971dc665bf1f4066f8e59/3a82746aedbd7ab2950e9bf0d119d263.jpg\n",
      "✅ Image features saved successfully as 'image_features.npy'\n"
     ]
    }
   ],
   "source": [
    "df = pd.read_csv(\"processed_data.csv\")  \n",
    "image_features = np.array([load_image(image_id) for image_id in df[\"image_id\"]])\n",
    "np.save(\"image-features.npy\", image_features)\n",
    "print(\"✅ Image features saved successfully as 'image_features.npy'\")\n"
   ]
  },
  {
   "cell_type": "code",
   "execution_count": 2,
   "id": "de461de5-9107-490a-98e3-6f9ff46fdd57",
   "metadata": {},
   "outputs": [
    {
     "name": "stdout",
     "output_type": "stream",
     "text": [
      "Image Features Shape: (20486, 50176)\n",
      "Labels Shape: (20486,)\n",
      "First 3 Image Features:\n",
      "[[0.         0.         0.         ... 0.         0.         0.        ]\n",
      " [0.63921569 0.65490196 0.61960784 ... 0.         0.         0.        ]\n",
      " [0.         0.         0.         ... 0.         0.         0.        ]]\n"
     ]
    }
   ],
   "source": [
    "import numpy as np\n",
    "import pandas as pd\n",
    "\n",
    "X_images = np.load(\"image-features.npy\")\n",
    "df = pd.read_csv(\"processed_data.csv\")\n",
    "y = df[\"target\"].values\n",
    "\n",
    "#Checking the transition\n",
    "print(f\"Image Features Shape: {X_images.shape}\")\n",
    "print(f\"Labels Shape: {y.shape}\")\n",
    "print(\"First 3 Image Features:\")\n",
    "print(X_images[:3])"
   ]
  },
  {
   "cell_type": "code",
   "execution_count": 18,
   "id": "fa33c414-bca5-4aef-b775-8e2277cfdcbd",
   "metadata": {},
   "outputs": [
    {
     "name": "stdout",
     "output_type": "stream",
     "text": [
      "✅ Merged dataset saved. New shape: (20486, 50177)\n"
     ]
    }
   ],
   "source": [
    "import numpy as np\n",
    "import pandas as pd\n",
    "\n",
    "X_images = np.load(\"image-features-aligned.npy\")\n",
    "df = pd.read_csv(\"processed_data_aligned.csv\")\n",
    "y_labels = df[\"target\"].values  \n",
    "assert X_images.shape[0] == len(y_labels), \"⚠️ Features and labels are not aligned!\"\n",
    "\n",
    "#Merge features with labels\n",
    "dataset = np.column_stack((X_images, y_labels))\n",
    "np.save(\"image-dataset-with-labels.npy\", dataset)\n",
    "print(f\"✅ Merged dataset saved. New shape: {dataset.shape}\")\n"
   ]
  },
  {
   "cell_type": "code",
   "execution_count": 2,
   "id": "7cf27e44-eea6-40ea-b715-f208f2ee3b2f",
   "metadata": {},
   "outputs": [
    {
     "name": "stdout",
     "output_type": "stream",
     "text": [
      "✅ Reduced dataset saved. New shape: (14340, 50177)\n"
     ]
    }
   ],
   "source": [
    "import numpy as np\n",
    "import pandas as pd\n",
    "\n",
    "dataset = np.load(\"image-dataset-with-labels.npy\")\n",
    "np.random.seed(42)\n",
    "num_samples = int(dataset.shape[0] * 0.7)  #70% of data\n",
    "selected_indices = np.random.choice(dataset.shape[0], num_samples, replace=False)\n",
    "dataset_reduced = dataset[selected_indices]\n",
    "np.save(\"image-dataset-reduced.npy\", dataset_reduced)\n",
    "\n",
    "print(f\"✅ Reduced dataset saved. New shape: {dataset_reduced.shape}\")\n"
   ]
  },
  {
   "cell_type": "code",
   "execution_count": 3,
   "id": "7fc4ddd2-c46f-4975-9eab-817d33e892de",
   "metadata": {},
   "outputs": [
    {
     "name": "stdout",
     "output_type": "stream",
     "text": [
      "✅ PCA Completed. Transformed Feature Shape: (11472, 300)\n"
     ]
    }
   ],
   "source": [
    "from sklearn.decomposition import PCA\n",
    "from sklearn.model_selection import train_test_split\n",
    "\n",
    "dataset_reduced = np.load(\"image-dataset-reduced.npy\")\n",
    "X_images_reduced = dataset_reduced[:, :-1]\n",
    "y_reduced = dataset_reduced[:, -1]\n",
    "X_train, X_test, y_train, y_test = train_test_split(\n",
    "    X_images_reduced, y_reduced, test_size=0.2, random_state=42, stratify=y_reduced\n",
    ")\n",
    "\n",
    "#PCA\n",
    "pca = PCA(n_components=300)\n",
    "X_train_pca = pca.fit_transform(X_train)\n",
    "X_test_pca = pca.transform(X_test)\n",
    "np.save(\"X_train_pca.npy\", X_train_pca)\n",
    "np.save(\"X_test_pca.npy\", X_test_pca)\n",
    "np.save(\"y_train.npy\", y_train)\n",
    "np.save(\"y_test.npy\", y_test)\n",
    "\n",
    "print(f\"✅ PCA Completed. Transformed Feature Shape: {X_train_pca.shape}\")\n"
   ]
  },
  {
   "cell_type": "code",
   "execution_count": 6,
   "id": "4013cb83-1134-4a35-a269-6575c0df474d",
   "metadata": {},
   "outputs": [
    {
     "name": "stdout",
     "output_type": "stream",
     "text": [
      "✅ Logistic Regression Accuracy: 0.6586\n",
      "Classification Report:\n",
      "               precision    recall  f1-score   support\n",
      "\n",
      "         0.0       0.67      0.95      0.79      1889\n",
      "         1.0       0.50      0.09      0.16       979\n",
      "\n",
      "    accuracy                           0.66      2868\n",
      "   macro avg       0.58      0.52      0.47      2868\n",
      "weighted avg       0.61      0.66      0.57      2868\n",
      "\n"
     ]
    }
   ],
   "source": [
    "from sklearn.linear_model import LogisticRegression\n",
    "from sklearn.metrics import accuracy_score, classification_report\n",
    "\n",
    "X_train_pca = np.load(\"X_train_pca.npy\")\n",
    "X_test_pca = np.load(\"X_test_pca.npy\")\n",
    "y_train = np.load(\"y_train.npy\")\n",
    "y_test = np.load(\"y_test.npy\")\n",
    "\n",
    "#Train Logistic Regression\n",
    "log_reg = LogisticRegression(max_iter=500, solver=\"saga\", n_jobs=-1, warm_start=True)\n",
    "log_reg.fit(X_train_pca, y_train)\n",
    "y_pred = log_reg.predict(X_test_pca)\n",
    "accuracy = accuracy_score(y_test, y_pred)\n",
    "\n",
    "print(f\"✅ Logistic Regression Accuracy: {accuracy:.4f}\")\n",
    "print(\"Classification Report:\\n\", classification_report(y_test, y_pred))\n"
   ]
  },
  {
   "cell_type": "code",
   "execution_count": 16,
   "id": "1e1f270c-a16c-4e70-bbb6-f572fcf06a6d",
   "metadata": {
    "scrolled": true
   },
   "outputs": [
    {
     "name": "stderr",
     "output_type": "stream",
     "text": [
      "[I 2025-02-23 19:09:09,441] A new study created in memory with name: no-name-27a2de0b-d316-4a11-9689-f8524f1af363\n",
      "/opt/anaconda3/lib/python3.12/site-packages/optuna/distributions.py:524: UserWarning: Choices for a categorical distribution should be a tuple of None, bool, int, float and str for persistent storage but contains ('saga', 'l1') which is of type tuple.\n",
      "  warnings.warn(message)\n",
      "/opt/anaconda3/lib/python3.12/site-packages/optuna/distributions.py:524: UserWarning: Choices for a categorical distribution should be a tuple of None, bool, int, float and str for persistent storage but contains ('saga', 'l2') which is of type tuple.\n",
      "  warnings.warn(message)\n",
      "/opt/anaconda3/lib/python3.12/site-packages/optuna/distributions.py:524: UserWarning: Choices for a categorical distribution should be a tuple of None, bool, int, float and str for persistent storage but contains ('saga', 'elasticnet') which is of type tuple.\n",
      "  warnings.warn(message)\n",
      "/opt/anaconda3/lib/python3.12/site-packages/optuna/distributions.py:524: UserWarning: Choices for a categorical distribution should be a tuple of None, bool, int, float and str for persistent storage but contains ('liblinear', 'l1') which is of type tuple.\n",
      "  warnings.warn(message)\n",
      "/opt/anaconda3/lib/python3.12/site-packages/optuna/distributions.py:524: UserWarning: Choices for a categorical distribution should be a tuple of None, bool, int, float and str for persistent storage but contains ('liblinear', 'l2') which is of type tuple.\n",
      "  warnings.warn(message)\n",
      "/opt/anaconda3/lib/python3.12/site-packages/optuna/distributions.py:524: UserWarning: Choices for a categorical distribution should be a tuple of None, bool, int, float and str for persistent storage but contains ('sag', 'l2') which is of type tuple.\n",
      "  warnings.warn(message)\n"
     ]
    },
    {
     "name": "stdout",
     "output_type": "stream",
     "text": [
      "✅ SMOTE Applied: New Training Set Shape: (15108, 300), Labels: [7554 7554]\n"
     ]
    },
    {
     "name": "stderr",
     "output_type": "stream",
     "text": [
      "[I 2025-02-23 19:09:11,820] Trial 0 finished with value: 0.5698986205320751 and parameters: {'C': 20.829473676740083, 'solver_penalty': ('saga', 'l2')}. Best is trial 0 with value: 0.5698986205320751.\n",
      "/opt/anaconda3/lib/python3.12/site-packages/optuna/distributions.py:524: UserWarning: Choices for a categorical distribution should be a tuple of None, bool, int, float and str for persistent storage but contains ('saga', 'l1') which is of type tuple.\n",
      "  warnings.warn(message)\n",
      "/opt/anaconda3/lib/python3.12/site-packages/optuna/distributions.py:524: UserWarning: Choices for a categorical distribution should be a tuple of None, bool, int, float and str for persistent storage but contains ('saga', 'l2') which is of type tuple.\n",
      "  warnings.warn(message)\n",
      "/opt/anaconda3/lib/python3.12/site-packages/optuna/distributions.py:524: UserWarning: Choices for a categorical distribution should be a tuple of None, bool, int, float and str for persistent storage but contains ('saga', 'elasticnet') which is of type tuple.\n",
      "  warnings.warn(message)\n",
      "/opt/anaconda3/lib/python3.12/site-packages/optuna/distributions.py:524: UserWarning: Choices for a categorical distribution should be a tuple of None, bool, int, float and str for persistent storage but contains ('liblinear', 'l1') which is of type tuple.\n",
      "  warnings.warn(message)\n",
      "/opt/anaconda3/lib/python3.12/site-packages/optuna/distributions.py:524: UserWarning: Choices for a categorical distribution should be a tuple of None, bool, int, float and str for persistent storage but contains ('liblinear', 'l2') which is of type tuple.\n",
      "  warnings.warn(message)\n",
      "/opt/anaconda3/lib/python3.12/site-packages/optuna/distributions.py:524: UserWarning: Choices for a categorical distribution should be a tuple of None, bool, int, float and str for persistent storage but contains ('sag', 'l2') which is of type tuple.\n",
      "  warnings.warn(message)\n"
     ]
    },
    {
     "name": "stdout",
     "output_type": "stream",
     "text": [
      "✅ SMOTE Applied: New Training Set Shape: (15108, 300), Labels: [7554 7554]\n"
     ]
    },
    {
     "name": "stderr",
     "output_type": "stream",
     "text": [
      "[I 2025-02-23 19:09:14,009] Trial 1 finished with value: 0.5682440652034041 and parameters: {'C': 0.0017508117127077955, 'solver_penalty': ('saga', 'l2')}. Best is trial 0 with value: 0.5698986205320751.\n",
      "/opt/anaconda3/lib/python3.12/site-packages/optuna/distributions.py:524: UserWarning: Choices for a categorical distribution should be a tuple of None, bool, int, float and str for persistent storage but contains ('saga', 'l1') which is of type tuple.\n",
      "  warnings.warn(message)\n",
      "/opt/anaconda3/lib/python3.12/site-packages/optuna/distributions.py:524: UserWarning: Choices for a categorical distribution should be a tuple of None, bool, int, float and str for persistent storage but contains ('saga', 'l2') which is of type tuple.\n",
      "  warnings.warn(message)\n",
      "/opt/anaconda3/lib/python3.12/site-packages/optuna/distributions.py:524: UserWarning: Choices for a categorical distribution should be a tuple of None, bool, int, float and str for persistent storage but contains ('saga', 'elasticnet') which is of type tuple.\n",
      "  warnings.warn(message)\n",
      "/opt/anaconda3/lib/python3.12/site-packages/optuna/distributions.py:524: UserWarning: Choices for a categorical distribution should be a tuple of None, bool, int, float and str for persistent storage but contains ('liblinear', 'l1') which is of type tuple.\n",
      "  warnings.warn(message)\n",
      "/opt/anaconda3/lib/python3.12/site-packages/optuna/distributions.py:524: UserWarning: Choices for a categorical distribution should be a tuple of None, bool, int, float and str for persistent storage but contains ('liblinear', 'l2') which is of type tuple.\n",
      "  warnings.warn(message)\n",
      "/opt/anaconda3/lib/python3.12/site-packages/optuna/distributions.py:524: UserWarning: Choices for a categorical distribution should be a tuple of None, bool, int, float and str for persistent storage but contains ('sag', 'l2') which is of type tuple.\n",
      "  warnings.warn(message)\n"
     ]
    },
    {
     "name": "stdout",
     "output_type": "stream",
     "text": [
      "✅ SMOTE Applied: New Training Set Shape: (15108, 300), Labels: [7554 7554]\n"
     ]
    },
    {
     "name": "stderr",
     "output_type": "stream",
     "text": [
      "/opt/anaconda3/lib/python3.12/site-packages/sklearn/linear_model/_logistic.py:1216: UserWarning: 'n_jobs' > 1 does not have any effect when 'solver' is set to 'liblinear'. Got 'n_jobs' = 8.\n",
      "  warnings.warn(\n",
      "/opt/anaconda3/lib/python3.12/site-packages/sklearn/linear_model/_logistic.py:1216: UserWarning: 'n_jobs' > 1 does not have any effect when 'solver' is set to 'liblinear'. Got 'n_jobs' = 8.\n",
      "  warnings.warn(\n",
      "/opt/anaconda3/lib/python3.12/site-packages/sklearn/linear_model/_logistic.py:1216: UserWarning: 'n_jobs' > 1 does not have any effect when 'solver' is set to 'liblinear'. Got 'n_jobs' = 8.\n",
      "  warnings.warn(\n",
      "/opt/anaconda3/lib/python3.12/site-packages/sklearn/linear_model/_logistic.py:1216: UserWarning: 'n_jobs' > 1 does not have any effect when 'solver' is set to 'liblinear'. Got 'n_jobs' = 8.\n",
      "  warnings.warn(\n",
      "/opt/anaconda3/lib/python3.12/site-packages/sklearn/linear_model/_logistic.py:1216: UserWarning: 'n_jobs' > 1 does not have any effect when 'solver' is set to 'liblinear'. Got 'n_jobs' = 8.\n",
      "  warnings.warn(\n",
      "[I 2025-02-23 19:09:15,082] Trial 2 finished with value: 0.5698986205320751 and parameters: {'C': 545.3309185099799, 'solver_penalty': ('liblinear', 'l2')}. Best is trial 0 with value: 0.5698986205320751.\n",
      "/opt/anaconda3/lib/python3.12/site-packages/optuna/distributions.py:524: UserWarning: Choices for a categorical distribution should be a tuple of None, bool, int, float and str for persistent storage but contains ('saga', 'l1') which is of type tuple.\n",
      "  warnings.warn(message)\n",
      "/opt/anaconda3/lib/python3.12/site-packages/optuna/distributions.py:524: UserWarning: Choices for a categorical distribution should be a tuple of None, bool, int, float and str for persistent storage but contains ('saga', 'l2') which is of type tuple.\n",
      "  warnings.warn(message)\n",
      "/opt/anaconda3/lib/python3.12/site-packages/optuna/distributions.py:524: UserWarning: Choices for a categorical distribution should be a tuple of None, bool, int, float and str for persistent storage but contains ('saga', 'elasticnet') which is of type tuple.\n",
      "  warnings.warn(message)\n",
      "/opt/anaconda3/lib/python3.12/site-packages/optuna/distributions.py:524: UserWarning: Choices for a categorical distribution should be a tuple of None, bool, int, float and str for persistent storage but contains ('liblinear', 'l1') which is of type tuple.\n",
      "  warnings.warn(message)\n",
      "/opt/anaconda3/lib/python3.12/site-packages/optuna/distributions.py:524: UserWarning: Choices for a categorical distribution should be a tuple of None, bool, int, float and str for persistent storage but contains ('liblinear', 'l2') which is of type tuple.\n",
      "  warnings.warn(message)\n",
      "/opt/anaconda3/lib/python3.12/site-packages/optuna/distributions.py:524: UserWarning: Choices for a categorical distribution should be a tuple of None, bool, int, float and str for persistent storage but contains ('sag', 'l2') which is of type tuple.\n",
      "  warnings.warn(message)\n"
     ]
    },
    {
     "name": "stdout",
     "output_type": "stream",
     "text": [
      "✅ SMOTE Applied: New Training Set Shape: (15108, 300), Labels: [7554 7554]\n"
     ]
    },
    {
     "name": "stderr",
     "output_type": "stream",
     "text": [
      "/opt/anaconda3/lib/python3.12/site-packages/sklearn/linear_model/_logistic.py:1216: UserWarning: 'n_jobs' > 1 does not have any effect when 'solver' is set to 'liblinear'. Got 'n_jobs' = 8.\n",
      "  warnings.warn(\n",
      "/opt/anaconda3/lib/python3.12/site-packages/sklearn/linear_model/_logistic.py:1216: UserWarning: 'n_jobs' > 1 does not have any effect when 'solver' is set to 'liblinear'. Got 'n_jobs' = 8.\n",
      "  warnings.warn(\n",
      "/opt/anaconda3/lib/python3.12/site-packages/sklearn/linear_model/_logistic.py:1216: UserWarning: 'n_jobs' > 1 does not have any effect when 'solver' is set to 'liblinear'. Got 'n_jobs' = 8.\n",
      "  warnings.warn(\n",
      "/opt/anaconda3/lib/python3.12/site-packages/sklearn/linear_model/_logistic.py:1216: UserWarning: 'n_jobs' > 1 does not have any effect when 'solver' is set to 'liblinear'. Got 'n_jobs' = 8.\n",
      "  warnings.warn(\n",
      "/opt/anaconda3/lib/python3.12/site-packages/sklearn/linear_model/_logistic.py:1216: UserWarning: 'n_jobs' > 1 does not have any effect when 'solver' is set to 'liblinear'. Got 'n_jobs' = 8.\n",
      "  warnings.warn(\n",
      "[I 2025-02-23 19:09:16,268] Trial 3 finished with value: 0.5698986205320751 and parameters: {'C': 538.6148802163708, 'solver_penalty': ('liblinear', 'l1')}. Best is trial 0 with value: 0.5698986205320751.\n",
      "/opt/anaconda3/lib/python3.12/site-packages/optuna/distributions.py:524: UserWarning: Choices for a categorical distribution should be a tuple of None, bool, int, float and str for persistent storage but contains ('saga', 'l1') which is of type tuple.\n",
      "  warnings.warn(message)\n",
      "/opt/anaconda3/lib/python3.12/site-packages/optuna/distributions.py:524: UserWarning: Choices for a categorical distribution should be a tuple of None, bool, int, float and str for persistent storage but contains ('saga', 'l2') which is of type tuple.\n",
      "  warnings.warn(message)\n",
      "/opt/anaconda3/lib/python3.12/site-packages/optuna/distributions.py:524: UserWarning: Choices for a categorical distribution should be a tuple of None, bool, int, float and str for persistent storage but contains ('saga', 'elasticnet') which is of type tuple.\n",
      "  warnings.warn(message)\n",
      "/opt/anaconda3/lib/python3.12/site-packages/optuna/distributions.py:524: UserWarning: Choices for a categorical distribution should be a tuple of None, bool, int, float and str for persistent storage but contains ('liblinear', 'l1') which is of type tuple.\n",
      "  warnings.warn(message)\n",
      "/opt/anaconda3/lib/python3.12/site-packages/optuna/distributions.py:524: UserWarning: Choices for a categorical distribution should be a tuple of None, bool, int, float and str for persistent storage but contains ('liblinear', 'l2') which is of type tuple.\n",
      "  warnings.warn(message)\n",
      "/opt/anaconda3/lib/python3.12/site-packages/optuna/distributions.py:524: UserWarning: Choices for a categorical distribution should be a tuple of None, bool, int, float and str for persistent storage but contains ('sag', 'l2') which is of type tuple.\n",
      "  warnings.warn(message)\n"
     ]
    },
    {
     "name": "stdout",
     "output_type": "stream",
     "text": [
      "✅ SMOTE Applied: New Training Set Shape: (15108, 300), Labels: [7554 7554]\n"
     ]
    },
    {
     "name": "stderr",
     "output_type": "stream",
     "text": [
      "/opt/anaconda3/lib/python3.12/site-packages/sklearn/linear_model/_logistic.py:1216: UserWarning: 'n_jobs' > 1 does not have any effect when 'solver' is set to 'liblinear'. Got 'n_jobs' = 8.\n",
      "  warnings.warn(\n",
      "/opt/anaconda3/lib/python3.12/site-packages/sklearn/linear_model/_logistic.py:1216: UserWarning: 'n_jobs' > 1 does not have any effect when 'solver' is set to 'liblinear'. Got 'n_jobs' = 8.\n",
      "  warnings.warn(\n",
      "/opt/anaconda3/lib/python3.12/site-packages/sklearn/linear_model/_logistic.py:1216: UserWarning: 'n_jobs' > 1 does not have any effect when 'solver' is set to 'liblinear'. Got 'n_jobs' = 8.\n",
      "  warnings.warn(\n",
      "/opt/anaconda3/lib/python3.12/site-packages/sklearn/linear_model/_logistic.py:1216: UserWarning: 'n_jobs' > 1 does not have any effect when 'solver' is set to 'liblinear'. Got 'n_jobs' = 8.\n",
      "  warnings.warn(\n",
      "/opt/anaconda3/lib/python3.12/site-packages/sklearn/linear_model/_logistic.py:1216: UserWarning: 'n_jobs' > 1 does not have any effect when 'solver' is set to 'liblinear'. Got 'n_jobs' = 8.\n",
      "  warnings.warn(\n",
      "[I 2025-02-23 19:09:17,446] Trial 4 finished with value: 0.5698986205320751 and parameters: {'C': 65.84373583946073, 'solver_penalty': ('liblinear', 'l2')}. Best is trial 0 with value: 0.5698986205320751.\n",
      "/opt/anaconda3/lib/python3.12/site-packages/optuna/distributions.py:524: UserWarning: Choices for a categorical distribution should be a tuple of None, bool, int, float and str for persistent storage but contains ('saga', 'l1') which is of type tuple.\n",
      "  warnings.warn(message)\n",
      "/opt/anaconda3/lib/python3.12/site-packages/optuna/distributions.py:524: UserWarning: Choices for a categorical distribution should be a tuple of None, bool, int, float and str for persistent storage but contains ('saga', 'l2') which is of type tuple.\n",
      "  warnings.warn(message)\n",
      "/opt/anaconda3/lib/python3.12/site-packages/optuna/distributions.py:524: UserWarning: Choices for a categorical distribution should be a tuple of None, bool, int, float and str for persistent storage but contains ('saga', 'elasticnet') which is of type tuple.\n",
      "  warnings.warn(message)\n",
      "/opt/anaconda3/lib/python3.12/site-packages/optuna/distributions.py:524: UserWarning: Choices for a categorical distribution should be a tuple of None, bool, int, float and str for persistent storage but contains ('liblinear', 'l1') which is of type tuple.\n",
      "  warnings.warn(message)\n",
      "/opt/anaconda3/lib/python3.12/site-packages/optuna/distributions.py:524: UserWarning: Choices for a categorical distribution should be a tuple of None, bool, int, float and str for persistent storage but contains ('liblinear', 'l2') which is of type tuple.\n",
      "  warnings.warn(message)\n",
      "/opt/anaconda3/lib/python3.12/site-packages/optuna/distributions.py:524: UserWarning: Choices for a categorical distribution should be a tuple of None, bool, int, float and str for persistent storage but contains ('sag', 'l2') which is of type tuple.\n",
      "  warnings.warn(message)\n"
     ]
    },
    {
     "name": "stdout",
     "output_type": "stream",
     "text": [
      "✅ SMOTE Applied: New Training Set Shape: (15108, 300), Labels: [7554 7554]\n"
     ]
    },
    {
     "name": "stderr",
     "output_type": "stream",
     "text": [
      "/opt/anaconda3/lib/python3.12/site-packages/sklearn/linear_model/_logistic.py:1216: UserWarning: 'n_jobs' > 1 does not have any effect when 'solver' is set to 'liblinear'. Got 'n_jobs' = 8.\n",
      "  warnings.warn(\n",
      "/opt/anaconda3/lib/python3.12/site-packages/sklearn/linear_model/_logistic.py:1216: UserWarning: 'n_jobs' > 1 does not have any effect when 'solver' is set to 'liblinear'. Got 'n_jobs' = 8.\n",
      "  warnings.warn(\n",
      "/opt/anaconda3/lib/python3.12/site-packages/sklearn/linear_model/_logistic.py:1216: UserWarning: 'n_jobs' > 1 does not have any effect when 'solver' is set to 'liblinear'. Got 'n_jobs' = 8.\n",
      "  warnings.warn(\n",
      "/opt/anaconda3/lib/python3.12/site-packages/sklearn/linear_model/_logistic.py:1216: UserWarning: 'n_jobs' > 1 does not have any effect when 'solver' is set to 'liblinear'. Got 'n_jobs' = 8.\n",
      "  warnings.warn(\n",
      "/opt/anaconda3/lib/python3.12/site-packages/sklearn/linear_model/_logistic.py:1216: UserWarning: 'n_jobs' > 1 does not have any effect when 'solver' is set to 'liblinear'. Got 'n_jobs' = 8.\n",
      "  warnings.warn(\n",
      "[I 2025-02-23 19:09:18,611] Trial 5 finished with value: 0.5697000327072942 and parameters: {'C': 6.171900263508718, 'solver_penalty': ('liblinear', 'l1')}. Best is trial 0 with value: 0.5698986205320751.\n",
      "/opt/anaconda3/lib/python3.12/site-packages/optuna/distributions.py:524: UserWarning: Choices for a categorical distribution should be a tuple of None, bool, int, float and str for persistent storage but contains ('saga', 'l1') which is of type tuple.\n",
      "  warnings.warn(message)\n",
      "/opt/anaconda3/lib/python3.12/site-packages/optuna/distributions.py:524: UserWarning: Choices for a categorical distribution should be a tuple of None, bool, int, float and str for persistent storage but contains ('saga', 'l2') which is of type tuple.\n",
      "  warnings.warn(message)\n",
      "/opt/anaconda3/lib/python3.12/site-packages/optuna/distributions.py:524: UserWarning: Choices for a categorical distribution should be a tuple of None, bool, int, float and str for persistent storage but contains ('saga', 'elasticnet') which is of type tuple.\n",
      "  warnings.warn(message)\n",
      "/opt/anaconda3/lib/python3.12/site-packages/optuna/distributions.py:524: UserWarning: Choices for a categorical distribution should be a tuple of None, bool, int, float and str for persistent storage but contains ('liblinear', 'l1') which is of type tuple.\n",
      "  warnings.warn(message)\n",
      "/opt/anaconda3/lib/python3.12/site-packages/optuna/distributions.py:524: UserWarning: Choices for a categorical distribution should be a tuple of None, bool, int, float and str for persistent storage but contains ('liblinear', 'l2') which is of type tuple.\n",
      "  warnings.warn(message)\n",
      "/opt/anaconda3/lib/python3.12/site-packages/optuna/distributions.py:524: UserWarning: Choices for a categorical distribution should be a tuple of None, bool, int, float and str for persistent storage but contains ('sag', 'l2') which is of type tuple.\n",
      "  warnings.warn(message)\n"
     ]
    },
    {
     "name": "stdout",
     "output_type": "stream",
     "text": [
      "✅ SMOTE Applied: New Training Set Shape: (15108, 300), Labels: [7554 7554]\n"
     ]
    },
    {
     "name": "stderr",
     "output_type": "stream",
     "text": [
      "[I 2025-02-23 19:09:21,817] Trial 6 finished with value: 0.5699647580547462 and parameters: {'C': 0.631007542185309, 'solver_penalty': ('saga', 'elasticnet'), 'l1_ratio': 0.6713484960520228}. Best is trial 6 with value: 0.5699647580547462.\n",
      "/opt/anaconda3/lib/python3.12/site-packages/optuna/distributions.py:524: UserWarning: Choices for a categorical distribution should be a tuple of None, bool, int, float and str for persistent storage but contains ('saga', 'l1') which is of type tuple.\n",
      "  warnings.warn(message)\n",
      "/opt/anaconda3/lib/python3.12/site-packages/optuna/distributions.py:524: UserWarning: Choices for a categorical distribution should be a tuple of None, bool, int, float and str for persistent storage but contains ('saga', 'l2') which is of type tuple.\n",
      "  warnings.warn(message)\n",
      "/opt/anaconda3/lib/python3.12/site-packages/optuna/distributions.py:524: UserWarning: Choices for a categorical distribution should be a tuple of None, bool, int, float and str for persistent storage but contains ('saga', 'elasticnet') which is of type tuple.\n",
      "  warnings.warn(message)\n",
      "/opt/anaconda3/lib/python3.12/site-packages/optuna/distributions.py:524: UserWarning: Choices for a categorical distribution should be a tuple of None, bool, int, float and str for persistent storage but contains ('liblinear', 'l1') which is of type tuple.\n",
      "  warnings.warn(message)\n",
      "/opt/anaconda3/lib/python3.12/site-packages/optuna/distributions.py:524: UserWarning: Choices for a categorical distribution should be a tuple of None, bool, int, float and str for persistent storage but contains ('liblinear', 'l2') which is of type tuple.\n",
      "  warnings.warn(message)\n",
      "/opt/anaconda3/lib/python3.12/site-packages/optuna/distributions.py:524: UserWarning: Choices for a categorical distribution should be a tuple of None, bool, int, float and str for persistent storage but contains ('sag', 'l2') which is of type tuple.\n",
      "  warnings.warn(message)\n"
     ]
    },
    {
     "name": "stdout",
     "output_type": "stream",
     "text": [
      "✅ SMOTE Applied: New Training Set Shape: (15108, 300), Labels: [7554 7554]\n"
     ]
    },
    {
     "name": "stderr",
     "output_type": "stream",
     "text": [
      "[I 2025-02-23 19:09:24,752] Trial 7 finished with value: 0.5697000765214862 and parameters: {'C': 0.017005582400300423, 'solver_penalty': ('sag', 'l2')}. Best is trial 6 with value: 0.5699647580547462.\n",
      "/opt/anaconda3/lib/python3.12/site-packages/optuna/distributions.py:524: UserWarning: Choices for a categorical distribution should be a tuple of None, bool, int, float and str for persistent storage but contains ('saga', 'l1') which is of type tuple.\n",
      "  warnings.warn(message)\n",
      "/opt/anaconda3/lib/python3.12/site-packages/optuna/distributions.py:524: UserWarning: Choices for a categorical distribution should be a tuple of None, bool, int, float and str for persistent storage but contains ('saga', 'l2') which is of type tuple.\n",
      "  warnings.warn(message)\n",
      "/opt/anaconda3/lib/python3.12/site-packages/optuna/distributions.py:524: UserWarning: Choices for a categorical distribution should be a tuple of None, bool, int, float and str for persistent storage but contains ('saga', 'elasticnet') which is of type tuple.\n",
      "  warnings.warn(message)\n",
      "/opt/anaconda3/lib/python3.12/site-packages/optuna/distributions.py:524: UserWarning: Choices for a categorical distribution should be a tuple of None, bool, int, float and str for persistent storage but contains ('liblinear', 'l1') which is of type tuple.\n",
      "  warnings.warn(message)\n",
      "/opt/anaconda3/lib/python3.12/site-packages/optuna/distributions.py:524: UserWarning: Choices for a categorical distribution should be a tuple of None, bool, int, float and str for persistent storage but contains ('liblinear', 'l2') which is of type tuple.\n",
      "  warnings.warn(message)\n",
      "/opt/anaconda3/lib/python3.12/site-packages/optuna/distributions.py:524: UserWarning: Choices for a categorical distribution should be a tuple of None, bool, int, float and str for persistent storage but contains ('sag', 'l2') which is of type tuple.\n",
      "  warnings.warn(message)\n"
     ]
    },
    {
     "name": "stdout",
     "output_type": "stream",
     "text": [
      "✅ SMOTE Applied: New Training Set Shape: (15108, 300), Labels: [7554 7554]\n"
     ]
    },
    {
     "name": "stderr",
     "output_type": "stream",
     "text": [
      "/opt/anaconda3/lib/python3.12/site-packages/sklearn/linear_model/_logistic.py:1216: UserWarning: 'n_jobs' > 1 does not have any effect when 'solver' is set to 'liblinear'. Got 'n_jobs' = 8.\n",
      "  warnings.warn(\n",
      "/opt/anaconda3/lib/python3.12/site-packages/sklearn/linear_model/_logistic.py:1216: UserWarning: 'n_jobs' > 1 does not have any effect when 'solver' is set to 'liblinear'. Got 'n_jobs' = 8.\n",
      "  warnings.warn(\n",
      "/opt/anaconda3/lib/python3.12/site-packages/sklearn/linear_model/_logistic.py:1216: UserWarning: 'n_jobs' > 1 does not have any effect when 'solver' is set to 'liblinear'. Got 'n_jobs' = 8.\n",
      "  warnings.warn(\n",
      "/opt/anaconda3/lib/python3.12/site-packages/sklearn/linear_model/_logistic.py:1216: UserWarning: 'n_jobs' > 1 does not have any effect when 'solver' is set to 'liblinear'. Got 'n_jobs' = 8.\n",
      "  warnings.warn(\n",
      "/opt/anaconda3/lib/python3.12/site-packages/sklearn/linear_model/_logistic.py:1216: UserWarning: 'n_jobs' > 1 does not have any effect when 'solver' is set to 'liblinear'. Got 'n_jobs' = 8.\n",
      "  warnings.warn(\n",
      "[I 2025-02-23 19:09:25,840] Trial 8 finished with value: 0.5698986205320751 and parameters: {'C': 3.7744874898982945, 'solver_penalty': ('liblinear', 'l2')}. Best is trial 6 with value: 0.5699647580547462.\n",
      "/opt/anaconda3/lib/python3.12/site-packages/optuna/distributions.py:524: UserWarning: Choices for a categorical distribution should be a tuple of None, bool, int, float and str for persistent storage but contains ('saga', 'l1') which is of type tuple.\n",
      "  warnings.warn(message)\n",
      "/opt/anaconda3/lib/python3.12/site-packages/optuna/distributions.py:524: UserWarning: Choices for a categorical distribution should be a tuple of None, bool, int, float and str for persistent storage but contains ('saga', 'l2') which is of type tuple.\n",
      "  warnings.warn(message)\n",
      "/opt/anaconda3/lib/python3.12/site-packages/optuna/distributions.py:524: UserWarning: Choices for a categorical distribution should be a tuple of None, bool, int, float and str for persistent storage but contains ('saga', 'elasticnet') which is of type tuple.\n",
      "  warnings.warn(message)\n",
      "/opt/anaconda3/lib/python3.12/site-packages/optuna/distributions.py:524: UserWarning: Choices for a categorical distribution should be a tuple of None, bool, int, float and str for persistent storage but contains ('liblinear', 'l1') which is of type tuple.\n",
      "  warnings.warn(message)\n",
      "/opt/anaconda3/lib/python3.12/site-packages/optuna/distributions.py:524: UserWarning: Choices for a categorical distribution should be a tuple of None, bool, int, float and str for persistent storage but contains ('liblinear', 'l2') which is of type tuple.\n",
      "  warnings.warn(message)\n",
      "/opt/anaconda3/lib/python3.12/site-packages/optuna/distributions.py:524: UserWarning: Choices for a categorical distribution should be a tuple of None, bool, int, float and str for persistent storage but contains ('sag', 'l2') which is of type tuple.\n",
      "  warnings.warn(message)\n"
     ]
    },
    {
     "name": "stdout",
     "output_type": "stream",
     "text": [
      "✅ SMOTE Applied: New Training Set Shape: (15108, 300), Labels: [7554 7554]\n"
     ]
    },
    {
     "name": "stderr",
     "output_type": "stream",
     "text": [
      "[I 2025-02-23 19:09:28,775] Trial 9 finished with value: 0.5683763840629383 and parameters: {'C': 0.07698580187069916, 'solver_penalty': ('saga', 'l1')}. Best is trial 6 with value: 0.5699647580547462.\n",
      "/opt/anaconda3/lib/python3.12/site-packages/optuna/distributions.py:524: UserWarning: Choices for a categorical distribution should be a tuple of None, bool, int, float and str for persistent storage but contains ('saga', 'l1') which is of type tuple.\n",
      "  warnings.warn(message)\n",
      "/opt/anaconda3/lib/python3.12/site-packages/optuna/distributions.py:524: UserWarning: Choices for a categorical distribution should be a tuple of None, bool, int, float and str for persistent storage but contains ('saga', 'l2') which is of type tuple.\n",
      "  warnings.warn(message)\n",
      "/opt/anaconda3/lib/python3.12/site-packages/optuna/distributions.py:524: UserWarning: Choices for a categorical distribution should be a tuple of None, bool, int, float and str for persistent storage but contains ('saga', 'elasticnet') which is of type tuple.\n",
      "  warnings.warn(message)\n",
      "/opt/anaconda3/lib/python3.12/site-packages/optuna/distributions.py:524: UserWarning: Choices for a categorical distribution should be a tuple of None, bool, int, float and str for persistent storage but contains ('liblinear', 'l1') which is of type tuple.\n",
      "  warnings.warn(message)\n",
      "/opt/anaconda3/lib/python3.12/site-packages/optuna/distributions.py:524: UserWarning: Choices for a categorical distribution should be a tuple of None, bool, int, float and str for persistent storage but contains ('liblinear', 'l2') which is of type tuple.\n",
      "  warnings.warn(message)\n",
      "/opt/anaconda3/lib/python3.12/site-packages/optuna/distributions.py:524: UserWarning: Choices for a categorical distribution should be a tuple of None, bool, int, float and str for persistent storage but contains ('sag', 'l2') which is of type tuple.\n",
      "  warnings.warn(message)\n"
     ]
    },
    {
     "name": "stdout",
     "output_type": "stream",
     "text": [
      "✅ SMOTE Applied: New Training Set Shape: (15108, 300), Labels: [7554 7554]\n"
     ]
    },
    {
     "name": "stderr",
     "output_type": "stream",
     "text": [
      "[I 2025-02-23 19:09:29,718] Trial 10 finished with value: 0.5000662032439589 and parameters: {'C': 0.00014595994837445937, 'solver_penalty': ('saga', 'elasticnet'), 'l1_ratio': 0.6176430121262659}. Best is trial 6 with value: 0.5699647580547462.\n",
      "/opt/anaconda3/lib/python3.12/site-packages/optuna/distributions.py:524: UserWarning: Choices for a categorical distribution should be a tuple of None, bool, int, float and str for persistent storage but contains ('saga', 'l1') which is of type tuple.\n",
      "  warnings.warn(message)\n",
      "/opt/anaconda3/lib/python3.12/site-packages/optuna/distributions.py:524: UserWarning: Choices for a categorical distribution should be a tuple of None, bool, int, float and str for persistent storage but contains ('saga', 'l2') which is of type tuple.\n",
      "  warnings.warn(message)\n",
      "/opt/anaconda3/lib/python3.12/site-packages/optuna/distributions.py:524: UserWarning: Choices for a categorical distribution should be a tuple of None, bool, int, float and str for persistent storage but contains ('saga', 'elasticnet') which is of type tuple.\n",
      "  warnings.warn(message)\n",
      "/opt/anaconda3/lib/python3.12/site-packages/optuna/distributions.py:524: UserWarning: Choices for a categorical distribution should be a tuple of None, bool, int, float and str for persistent storage but contains ('liblinear', 'l1') which is of type tuple.\n",
      "  warnings.warn(message)\n",
      "/opt/anaconda3/lib/python3.12/site-packages/optuna/distributions.py:524: UserWarning: Choices for a categorical distribution should be a tuple of None, bool, int, float and str for persistent storage but contains ('liblinear', 'l2') which is of type tuple.\n",
      "  warnings.warn(message)\n",
      "/opt/anaconda3/lib/python3.12/site-packages/optuna/distributions.py:524: UserWarning: Choices for a categorical distribution should be a tuple of None, bool, int, float and str for persistent storage but contains ('sag', 'l2') which is of type tuple.\n",
      "  warnings.warn(message)\n"
     ]
    },
    {
     "name": "stdout",
     "output_type": "stream",
     "text": [
      "✅ SMOTE Applied: New Training Set Shape: (15108, 300), Labels: [7554 7554]\n"
     ]
    },
    {
     "name": "stderr",
     "output_type": "stream",
     "text": [
      "[I 2025-02-23 19:09:32,629] Trial 11 finished with value: 0.5700309393916093 and parameters: {'C': 0.7909622373051638, 'solver_penalty': ('saga', 'elasticnet'), 'l1_ratio': 0.9654646017730972}. Best is trial 11 with value: 0.5700309393916093.\n",
      "/opt/anaconda3/lib/python3.12/site-packages/optuna/distributions.py:524: UserWarning: Choices for a categorical distribution should be a tuple of None, bool, int, float and str for persistent storage but contains ('saga', 'l1') which is of type tuple.\n",
      "  warnings.warn(message)\n",
      "/opt/anaconda3/lib/python3.12/site-packages/optuna/distributions.py:524: UserWarning: Choices for a categorical distribution should be a tuple of None, bool, int, float and str for persistent storage but contains ('saga', 'l2') which is of type tuple.\n",
      "  warnings.warn(message)\n",
      "/opt/anaconda3/lib/python3.12/site-packages/optuna/distributions.py:524: UserWarning: Choices for a categorical distribution should be a tuple of None, bool, int, float and str for persistent storage but contains ('saga', 'elasticnet') which is of type tuple.\n",
      "  warnings.warn(message)\n",
      "/opt/anaconda3/lib/python3.12/site-packages/optuna/distributions.py:524: UserWarning: Choices for a categorical distribution should be a tuple of None, bool, int, float and str for persistent storage but contains ('liblinear', 'l1') which is of type tuple.\n",
      "  warnings.warn(message)\n",
      "/opt/anaconda3/lib/python3.12/site-packages/optuna/distributions.py:524: UserWarning: Choices for a categorical distribution should be a tuple of None, bool, int, float and str for persistent storage but contains ('liblinear', 'l2') which is of type tuple.\n",
      "  warnings.warn(message)\n",
      "/opt/anaconda3/lib/python3.12/site-packages/optuna/distributions.py:524: UserWarning: Choices for a categorical distribution should be a tuple of None, bool, int, float and str for persistent storage but contains ('sag', 'l2') which is of type tuple.\n",
      "  warnings.warn(message)\n"
     ]
    },
    {
     "name": "stdout",
     "output_type": "stream",
     "text": [
      "✅ SMOTE Applied: New Training Set Shape: (15108, 300), Labels: [7554 7554]\n"
     ]
    },
    {
     "name": "stderr",
     "output_type": "stream",
     "text": [
      "[I 2025-02-23 19:09:35,547] Trial 12 finished with value: 0.5699646923334585 and parameters: {'C': 0.6770613199701057, 'solver_penalty': ('saga', 'elasticnet'), 'l1_ratio': 0.9859401088766027}. Best is trial 11 with value: 0.5700309393916093.\n",
      "/opt/anaconda3/lib/python3.12/site-packages/optuna/distributions.py:524: UserWarning: Choices for a categorical distribution should be a tuple of None, bool, int, float and str for persistent storage but contains ('saga', 'l1') which is of type tuple.\n",
      "  warnings.warn(message)\n",
      "/opt/anaconda3/lib/python3.12/site-packages/optuna/distributions.py:524: UserWarning: Choices for a categorical distribution should be a tuple of None, bool, int, float and str for persistent storage but contains ('saga', 'l2') which is of type tuple.\n",
      "  warnings.warn(message)\n",
      "/opt/anaconda3/lib/python3.12/site-packages/optuna/distributions.py:524: UserWarning: Choices for a categorical distribution should be a tuple of None, bool, int, float and str for persistent storage but contains ('saga', 'elasticnet') which is of type tuple.\n",
      "  warnings.warn(message)\n",
      "/opt/anaconda3/lib/python3.12/site-packages/optuna/distributions.py:524: UserWarning: Choices for a categorical distribution should be a tuple of None, bool, int, float and str for persistent storage but contains ('liblinear', 'l1') which is of type tuple.\n",
      "  warnings.warn(message)\n",
      "/opt/anaconda3/lib/python3.12/site-packages/optuna/distributions.py:524: UserWarning: Choices for a categorical distribution should be a tuple of None, bool, int, float and str for persistent storage but contains ('liblinear', 'l2') which is of type tuple.\n",
      "  warnings.warn(message)\n",
      "/opt/anaconda3/lib/python3.12/site-packages/optuna/distributions.py:524: UserWarning: Choices for a categorical distribution should be a tuple of None, bool, int, float and str for persistent storage but contains ('sag', 'l2') which is of type tuple.\n",
      "  warnings.warn(message)\n"
     ]
    },
    {
     "name": "stdout",
     "output_type": "stream",
     "text": [
      "✅ SMOTE Applied: New Training Set Shape: (15108, 300), Labels: [7554 7554]\n"
     ]
    },
    {
     "name": "stderr",
     "output_type": "stream",
     "text": [
      "[I 2025-02-23 19:09:38,662] Trial 13 finished with value: 0.5702294395880063 and parameters: {'C': 0.4566463203883709, 'solver_penalty': ('saga', 'elasticnet'), 'l1_ratio': 0.9191862512529112}. Best is trial 13 with value: 0.5702294395880063.\n",
      "/opt/anaconda3/lib/python3.12/site-packages/optuna/distributions.py:524: UserWarning: Choices for a categorical distribution should be a tuple of None, bool, int, float and str for persistent storage but contains ('saga', 'l1') which is of type tuple.\n",
      "  warnings.warn(message)\n",
      "/opt/anaconda3/lib/python3.12/site-packages/optuna/distributions.py:524: UserWarning: Choices for a categorical distribution should be a tuple of None, bool, int, float and str for persistent storage but contains ('saga', 'l2') which is of type tuple.\n",
      "  warnings.warn(message)\n",
      "/opt/anaconda3/lib/python3.12/site-packages/optuna/distributions.py:524: UserWarning: Choices for a categorical distribution should be a tuple of None, bool, int, float and str for persistent storage but contains ('saga', 'elasticnet') which is of type tuple.\n",
      "  warnings.warn(message)\n",
      "/opt/anaconda3/lib/python3.12/site-packages/optuna/distributions.py:524: UserWarning: Choices for a categorical distribution should be a tuple of None, bool, int, float and str for persistent storage but contains ('liblinear', 'l1') which is of type tuple.\n",
      "  warnings.warn(message)\n",
      "/opt/anaconda3/lib/python3.12/site-packages/optuna/distributions.py:524: UserWarning: Choices for a categorical distribution should be a tuple of None, bool, int, float and str for persistent storage but contains ('liblinear', 'l2') which is of type tuple.\n",
      "  warnings.warn(message)\n",
      "/opt/anaconda3/lib/python3.12/site-packages/optuna/distributions.py:524: UserWarning: Choices for a categorical distribution should be a tuple of None, bool, int, float and str for persistent storage but contains ('sag', 'l2') which is of type tuple.\n",
      "  warnings.warn(message)\n"
     ]
    },
    {
     "name": "stdout",
     "output_type": "stream",
     "text": [
      "✅ SMOTE Applied: New Training Set Shape: (15108, 300), Labels: [7554 7554]\n"
     ]
    },
    {
     "name": "stderr",
     "output_type": "stream",
     "text": [
      "[I 2025-02-23 19:09:41,530] Trial 14 finished with value: 0.5658605293499221 and parameters: {'C': 0.030945759122803472, 'solver_penalty': ('saga', 'elasticnet'), 'l1_ratio': 0.9917312903593032}. Best is trial 13 with value: 0.5702294395880063.\n",
      "/opt/anaconda3/lib/python3.12/site-packages/optuna/distributions.py:524: UserWarning: Choices for a categorical distribution should be a tuple of None, bool, int, float and str for persistent storage but contains ('saga', 'l1') which is of type tuple.\n",
      "  warnings.warn(message)\n",
      "/opt/anaconda3/lib/python3.12/site-packages/optuna/distributions.py:524: UserWarning: Choices for a categorical distribution should be a tuple of None, bool, int, float and str for persistent storage but contains ('saga', 'l2') which is of type tuple.\n",
      "  warnings.warn(message)\n",
      "/opt/anaconda3/lib/python3.12/site-packages/optuna/distributions.py:524: UserWarning: Choices for a categorical distribution should be a tuple of None, bool, int, float and str for persistent storage but contains ('saga', 'elasticnet') which is of type tuple.\n",
      "  warnings.warn(message)\n",
      "/opt/anaconda3/lib/python3.12/site-packages/optuna/distributions.py:524: UserWarning: Choices for a categorical distribution should be a tuple of None, bool, int, float and str for persistent storage but contains ('liblinear', 'l1') which is of type tuple.\n",
      "  warnings.warn(message)\n",
      "/opt/anaconda3/lib/python3.12/site-packages/optuna/distributions.py:524: UserWarning: Choices for a categorical distribution should be a tuple of None, bool, int, float and str for persistent storage but contains ('liblinear', 'l2') which is of type tuple.\n",
      "  warnings.warn(message)\n",
      "/opt/anaconda3/lib/python3.12/site-packages/optuna/distributions.py:524: UserWarning: Choices for a categorical distribution should be a tuple of None, bool, int, float and str for persistent storage but contains ('sag', 'l2') which is of type tuple.\n",
      "  warnings.warn(message)\n"
     ]
    },
    {
     "name": "stdout",
     "output_type": "stream",
     "text": [
      "✅ SMOTE Applied: New Training Set Shape: (15108, 300), Labels: [7554 7554]\n"
     ]
    },
    {
     "name": "stderr",
     "output_type": "stream",
     "text": [
      "[I 2025-02-23 19:09:44,547] Trial 15 finished with value: 0.5695014886967054 and parameters: {'C': 0.22590181229831988, 'solver_penalty': ('saga', 'elasticnet'), 'l1_ratio': 0.10057090413212016}. Best is trial 13 with value: 0.5702294395880063.\n",
      "/opt/anaconda3/lib/python3.12/site-packages/optuna/distributions.py:524: UserWarning: Choices for a categorical distribution should be a tuple of None, bool, int, float and str for persistent storage but contains ('saga', 'l1') which is of type tuple.\n",
      "  warnings.warn(message)\n",
      "/opt/anaconda3/lib/python3.12/site-packages/optuna/distributions.py:524: UserWarning: Choices for a categorical distribution should be a tuple of None, bool, int, float and str for persistent storage but contains ('saga', 'l2') which is of type tuple.\n",
      "  warnings.warn(message)\n",
      "/opt/anaconda3/lib/python3.12/site-packages/optuna/distributions.py:524: UserWarning: Choices for a categorical distribution should be a tuple of None, bool, int, float and str for persistent storage but contains ('saga', 'elasticnet') which is of type tuple.\n",
      "  warnings.warn(message)\n",
      "/opt/anaconda3/lib/python3.12/site-packages/optuna/distributions.py:524: UserWarning: Choices for a categorical distribution should be a tuple of None, bool, int, float and str for persistent storage but contains ('liblinear', 'l1') which is of type tuple.\n",
      "  warnings.warn(message)\n",
      "/opt/anaconda3/lib/python3.12/site-packages/optuna/distributions.py:524: UserWarning: Choices for a categorical distribution should be a tuple of None, bool, int, float and str for persistent storage but contains ('liblinear', 'l2') which is of type tuple.\n",
      "  warnings.warn(message)\n",
      "/opt/anaconda3/lib/python3.12/site-packages/optuna/distributions.py:524: UserWarning: Choices for a categorical distribution should be a tuple of None, bool, int, float and str for persistent storage but contains ('sag', 'l2') which is of type tuple.\n",
      "  warnings.warn(message)\n"
     ]
    },
    {
     "name": "stdout",
     "output_type": "stream",
     "text": [
      "✅ SMOTE Applied: New Training Set Shape: (15108, 300), Labels: [7554 7554]\n"
     ]
    },
    {
     "name": "stderr",
     "output_type": "stream",
     "text": [
      "[I 2025-02-23 19:09:46,279] Trial 16 finished with value: 0.502979145978153 and parameters: {'C': 0.0031002918425298413, 'solver_penalty': ('saga', 'l1')}. Best is trial 13 with value: 0.5702294395880063.\n",
      "/opt/anaconda3/lib/python3.12/site-packages/optuna/distributions.py:524: UserWarning: Choices for a categorical distribution should be a tuple of None, bool, int, float and str for persistent storage but contains ('saga', 'l1') which is of type tuple.\n",
      "  warnings.warn(message)\n",
      "/opt/anaconda3/lib/python3.12/site-packages/optuna/distributions.py:524: UserWarning: Choices for a categorical distribution should be a tuple of None, bool, int, float and str for persistent storage but contains ('saga', 'l2') which is of type tuple.\n",
      "  warnings.warn(message)\n",
      "/opt/anaconda3/lib/python3.12/site-packages/optuna/distributions.py:524: UserWarning: Choices for a categorical distribution should be a tuple of None, bool, int, float and str for persistent storage but contains ('saga', 'elasticnet') which is of type tuple.\n",
      "  warnings.warn(message)\n",
      "/opt/anaconda3/lib/python3.12/site-packages/optuna/distributions.py:524: UserWarning: Choices for a categorical distribution should be a tuple of None, bool, int, float and str for persistent storage but contains ('liblinear', 'l1') which is of type tuple.\n",
      "  warnings.warn(message)\n",
      "/opt/anaconda3/lib/python3.12/site-packages/optuna/distributions.py:524: UserWarning: Choices for a categorical distribution should be a tuple of None, bool, int, float and str for persistent storage but contains ('liblinear', 'l2') which is of type tuple.\n",
      "  warnings.warn(message)\n",
      "/opt/anaconda3/lib/python3.12/site-packages/optuna/distributions.py:524: UserWarning: Choices for a categorical distribution should be a tuple of None, bool, int, float and str for persistent storage but contains ('sag', 'l2') which is of type tuple.\n",
      "  warnings.warn(message)\n"
     ]
    },
    {
     "name": "stdout",
     "output_type": "stream",
     "text": [
      "✅ SMOTE Applied: New Training Set Shape: (15108, 300), Labels: [7554 7554]\n"
     ]
    },
    {
     "name": "stderr",
     "output_type": "stream",
     "text": [
      "[I 2025-02-23 19:09:49,217] Trial 17 finished with value: 0.5698986205320751 and parameters: {'C': 3.0836415543917854, 'solver_penalty': ('sag', 'l2')}. Best is trial 13 with value: 0.5702294395880063.\n",
      "/opt/anaconda3/lib/python3.12/site-packages/optuna/distributions.py:524: UserWarning: Choices for a categorical distribution should be a tuple of None, bool, int, float and str for persistent storage but contains ('saga', 'l1') which is of type tuple.\n",
      "  warnings.warn(message)\n",
      "/opt/anaconda3/lib/python3.12/site-packages/optuna/distributions.py:524: UserWarning: Choices for a categorical distribution should be a tuple of None, bool, int, float and str for persistent storage but contains ('saga', 'l2') which is of type tuple.\n",
      "  warnings.warn(message)\n",
      "/opt/anaconda3/lib/python3.12/site-packages/optuna/distributions.py:524: UserWarning: Choices for a categorical distribution should be a tuple of None, bool, int, float and str for persistent storage but contains ('saga', 'elasticnet') which is of type tuple.\n",
      "  warnings.warn(message)\n",
      "/opt/anaconda3/lib/python3.12/site-packages/optuna/distributions.py:524: UserWarning: Choices for a categorical distribution should be a tuple of None, bool, int, float and str for persistent storage but contains ('liblinear', 'l1') which is of type tuple.\n",
      "  warnings.warn(message)\n",
      "/opt/anaconda3/lib/python3.12/site-packages/optuna/distributions.py:524: UserWarning: Choices for a categorical distribution should be a tuple of None, bool, int, float and str for persistent storage but contains ('liblinear', 'l2') which is of type tuple.\n",
      "  warnings.warn(message)\n",
      "/opt/anaconda3/lib/python3.12/site-packages/optuna/distributions.py:524: UserWarning: Choices for a categorical distribution should be a tuple of None, bool, int, float and str for persistent storage but contains ('sag', 'l2') which is of type tuple.\n",
      "  warnings.warn(message)\n"
     ]
    },
    {
     "name": "stdout",
     "output_type": "stream",
     "text": [
      "✅ SMOTE Applied: New Training Set Shape: (15108, 300), Labels: [7554 7554]\n"
     ]
    },
    {
     "name": "stderr",
     "output_type": "stream",
     "text": [
      "[I 2025-02-23 19:09:52,171] Trial 18 finished with value: 0.5698324172881162 and parameters: {'C': 54.39662952110419, 'solver_penalty': ('saga', 'elasticnet'), 'l1_ratio': 0.7880578529801123}. Best is trial 13 with value: 0.5702294395880063.\n",
      "/opt/anaconda3/lib/python3.12/site-packages/optuna/distributions.py:524: UserWarning: Choices for a categorical distribution should be a tuple of None, bool, int, float and str for persistent storage but contains ('saga', 'l1') which is of type tuple.\n",
      "  warnings.warn(message)\n",
      "/opt/anaconda3/lib/python3.12/site-packages/optuna/distributions.py:524: UserWarning: Choices for a categorical distribution should be a tuple of None, bool, int, float and str for persistent storage but contains ('saga', 'l2') which is of type tuple.\n",
      "  warnings.warn(message)\n",
      "/opt/anaconda3/lib/python3.12/site-packages/optuna/distributions.py:524: UserWarning: Choices for a categorical distribution should be a tuple of None, bool, int, float and str for persistent storage but contains ('saga', 'elasticnet') which is of type tuple.\n",
      "  warnings.warn(message)\n",
      "/opt/anaconda3/lib/python3.12/site-packages/optuna/distributions.py:524: UserWarning: Choices for a categorical distribution should be a tuple of None, bool, int, float and str for persistent storage but contains ('liblinear', 'l1') which is of type tuple.\n",
      "  warnings.warn(message)\n",
      "/opt/anaconda3/lib/python3.12/site-packages/optuna/distributions.py:524: UserWarning: Choices for a categorical distribution should be a tuple of None, bool, int, float and str for persistent storage but contains ('liblinear', 'l2') which is of type tuple.\n",
      "  warnings.warn(message)\n",
      "/opt/anaconda3/lib/python3.12/site-packages/optuna/distributions.py:524: UserWarning: Choices for a categorical distribution should be a tuple of None, bool, int, float and str for persistent storage but contains ('sag', 'l2') which is of type tuple.\n",
      "  warnings.warn(message)\n"
     ]
    },
    {
     "name": "stdout",
     "output_type": "stream",
     "text": [
      "✅ SMOTE Applied: New Training Set Shape: (15108, 300), Labels: [7554 7554]\n"
     ]
    },
    {
     "name": "stderr",
     "output_type": "stream",
     "text": [
      "[I 2025-02-23 19:09:55,196] Trial 19 finished with value: 0.5698324391952121 and parameters: {'C': 0.4860504936791776, 'solver_penalty': ('saga', 'elasticnet'), 'l1_ratio': 0.391501877229841}. Best is trial 13 with value: 0.5702294395880063.\n",
      "/opt/anaconda3/lib/python3.12/site-packages/optuna/distributions.py:524: UserWarning: Choices for a categorical distribution should be a tuple of None, bool, int, float and str for persistent storage but contains ('saga', 'l1') which is of type tuple.\n",
      "  warnings.warn(message)\n",
      "/opt/anaconda3/lib/python3.12/site-packages/optuna/distributions.py:524: UserWarning: Choices for a categorical distribution should be a tuple of None, bool, int, float and str for persistent storage but contains ('saga', 'l2') which is of type tuple.\n",
      "  warnings.warn(message)\n",
      "/opt/anaconda3/lib/python3.12/site-packages/optuna/distributions.py:524: UserWarning: Choices for a categorical distribution should be a tuple of None, bool, int, float and str for persistent storage but contains ('saga', 'elasticnet') which is of type tuple.\n",
      "  warnings.warn(message)\n",
      "/opt/anaconda3/lib/python3.12/site-packages/optuna/distributions.py:524: UserWarning: Choices for a categorical distribution should be a tuple of None, bool, int, float and str for persistent storage but contains ('liblinear', 'l1') which is of type tuple.\n",
      "  warnings.warn(message)\n",
      "/opt/anaconda3/lib/python3.12/site-packages/optuna/distributions.py:524: UserWarning: Choices for a categorical distribution should be a tuple of None, bool, int, float and str for persistent storage but contains ('liblinear', 'l2') which is of type tuple.\n",
      "  warnings.warn(message)\n",
      "/opt/anaconda3/lib/python3.12/site-packages/optuna/distributions.py:524: UserWarning: Choices for a categorical distribution should be a tuple of None, bool, int, float and str for persistent storage but contains ('sag', 'l2') which is of type tuple.\n",
      "  warnings.warn(message)\n"
     ]
    },
    {
     "name": "stdout",
     "output_type": "stream",
     "text": [
      "✅ SMOTE Applied: New Training Set Shape: (15108, 300), Labels: [7554 7554]\n"
     ]
    },
    {
     "name": "stderr",
     "output_type": "stream",
     "text": [
      "[I 2025-02-23 19:09:57,725] Trial 20 finished with value: 0.5445470937936978 and parameters: {'C': 0.005183543756161017, 'solver_penalty': ('saga', 'elasticnet'), 'l1_ratio': 0.8240648039391663}. Best is trial 13 with value: 0.5702294395880063.\n",
      "/opt/anaconda3/lib/python3.12/site-packages/optuna/distributions.py:524: UserWarning: Choices for a categorical distribution should be a tuple of None, bool, int, float and str for persistent storage but contains ('saga', 'l1') which is of type tuple.\n",
      "  warnings.warn(message)\n",
      "/opt/anaconda3/lib/python3.12/site-packages/optuna/distributions.py:524: UserWarning: Choices for a categorical distribution should be a tuple of None, bool, int, float and str for persistent storage but contains ('saga', 'l2') which is of type tuple.\n",
      "  warnings.warn(message)\n",
      "/opt/anaconda3/lib/python3.12/site-packages/optuna/distributions.py:524: UserWarning: Choices for a categorical distribution should be a tuple of None, bool, int, float and str for persistent storage but contains ('saga', 'elasticnet') which is of type tuple.\n",
      "  warnings.warn(message)\n",
      "/opt/anaconda3/lib/python3.12/site-packages/optuna/distributions.py:524: UserWarning: Choices for a categorical distribution should be a tuple of None, bool, int, float and str for persistent storage but contains ('liblinear', 'l1') which is of type tuple.\n",
      "  warnings.warn(message)\n",
      "/opt/anaconda3/lib/python3.12/site-packages/optuna/distributions.py:524: UserWarning: Choices for a categorical distribution should be a tuple of None, bool, int, float and str for persistent storage but contains ('liblinear', 'l2') which is of type tuple.\n",
      "  warnings.warn(message)\n",
      "/opt/anaconda3/lib/python3.12/site-packages/optuna/distributions.py:524: UserWarning: Choices for a categorical distribution should be a tuple of None, bool, int, float and str for persistent storage but contains ('sag', 'l2') which is of type tuple.\n",
      "  warnings.warn(message)\n"
     ]
    },
    {
     "name": "stdout",
     "output_type": "stream",
     "text": [
      "✅ SMOTE Applied: New Training Set Shape: (15108, 300), Labels: [7554 7554]\n"
     ]
    },
    {
     "name": "stderr",
     "output_type": "stream",
     "text": [
      "[I 2025-02-23 19:10:00,778] Trial 21 finished with value: 0.5697000546143902 and parameters: {'C': 1.1613193303167606, 'solver_penalty': ('saga', 'elasticnet'), 'l1_ratio': 0.794852282582311}. Best is trial 13 with value: 0.5702294395880063.\n",
      "/opt/anaconda3/lib/python3.12/site-packages/optuna/distributions.py:524: UserWarning: Choices for a categorical distribution should be a tuple of None, bool, int, float and str for persistent storage but contains ('saga', 'l1') which is of type tuple.\n",
      "  warnings.warn(message)\n",
      "/opt/anaconda3/lib/python3.12/site-packages/optuna/distributions.py:524: UserWarning: Choices for a categorical distribution should be a tuple of None, bool, int, float and str for persistent storage but contains ('saga', 'l2') which is of type tuple.\n",
      "  warnings.warn(message)\n",
      "/opt/anaconda3/lib/python3.12/site-packages/optuna/distributions.py:524: UserWarning: Choices for a categorical distribution should be a tuple of None, bool, int, float and str for persistent storage but contains ('saga', 'elasticnet') which is of type tuple.\n",
      "  warnings.warn(message)\n",
      "/opt/anaconda3/lib/python3.12/site-packages/optuna/distributions.py:524: UserWarning: Choices for a categorical distribution should be a tuple of None, bool, int, float and str for persistent storage but contains ('liblinear', 'l1') which is of type tuple.\n",
      "  warnings.warn(message)\n",
      "/opt/anaconda3/lib/python3.12/site-packages/optuna/distributions.py:524: UserWarning: Choices for a categorical distribution should be a tuple of None, bool, int, float and str for persistent storage but contains ('liblinear', 'l2') which is of type tuple.\n",
      "  warnings.warn(message)\n",
      "/opt/anaconda3/lib/python3.12/site-packages/optuna/distributions.py:524: UserWarning: Choices for a categorical distribution should be a tuple of None, bool, int, float and str for persistent storage but contains ('sag', 'l2') which is of type tuple.\n",
      "  warnings.warn(message)\n"
     ]
    },
    {
     "name": "stdout",
     "output_type": "stream",
     "text": [
      "✅ SMOTE Applied: New Training Set Shape: (15108, 300), Labels: [7554 7554]\n"
     ]
    },
    {
     "name": "stderr",
     "output_type": "stream",
     "text": [
      "[I 2025-02-23 19:10:03,875] Trial 22 finished with value: 0.5681115272729105 and parameters: {'C': 0.09922840510618569, 'solver_penalty': ('saga', 'elasticnet'), 'l1_ratio': 0.5960663943614023}. Best is trial 13 with value: 0.5702294395880063.\n",
      "/opt/anaconda3/lib/python3.12/site-packages/optuna/distributions.py:524: UserWarning: Choices for a categorical distribution should be a tuple of None, bool, int, float and str for persistent storage but contains ('saga', 'l1') which is of type tuple.\n",
      "  warnings.warn(message)\n",
      "/opt/anaconda3/lib/python3.12/site-packages/optuna/distributions.py:524: UserWarning: Choices for a categorical distribution should be a tuple of None, bool, int, float and str for persistent storage but contains ('saga', 'l2') which is of type tuple.\n",
      "  warnings.warn(message)\n",
      "/opt/anaconda3/lib/python3.12/site-packages/optuna/distributions.py:524: UserWarning: Choices for a categorical distribution should be a tuple of None, bool, int, float and str for persistent storage but contains ('saga', 'elasticnet') which is of type tuple.\n",
      "  warnings.warn(message)\n",
      "/opt/anaconda3/lib/python3.12/site-packages/optuna/distributions.py:524: UserWarning: Choices for a categorical distribution should be a tuple of None, bool, int, float and str for persistent storage but contains ('liblinear', 'l1') which is of type tuple.\n",
      "  warnings.warn(message)\n",
      "/opt/anaconda3/lib/python3.12/site-packages/optuna/distributions.py:524: UserWarning: Choices for a categorical distribution should be a tuple of None, bool, int, float and str for persistent storage but contains ('liblinear', 'l2') which is of type tuple.\n",
      "  warnings.warn(message)\n",
      "/opt/anaconda3/lib/python3.12/site-packages/optuna/distributions.py:524: UserWarning: Choices for a categorical distribution should be a tuple of None, bool, int, float and str for persistent storage but contains ('sag', 'l2') which is of type tuple.\n",
      "  warnings.warn(message)\n"
     ]
    },
    {
     "name": "stdout",
     "output_type": "stream",
     "text": [
      "✅ SMOTE Applied: New Training Set Shape: (15108, 300), Labels: [7554 7554]\n"
     ]
    },
    {
     "name": "stderr",
     "output_type": "stream",
     "text": [
      "[I 2025-02-23 19:10:06,867] Trial 23 finished with value: 0.5696338732775272 and parameters: {'C': 1.3700686662873616, 'solver_penalty': ('saga', 'elasticnet'), 'l1_ratio': 0.8839623381858871}. Best is trial 13 with value: 0.5702294395880063.\n",
      "/opt/anaconda3/lib/python3.12/site-packages/optuna/distributions.py:524: UserWarning: Choices for a categorical distribution should be a tuple of None, bool, int, float and str for persistent storage but contains ('saga', 'l1') which is of type tuple.\n",
      "  warnings.warn(message)\n",
      "/opt/anaconda3/lib/python3.12/site-packages/optuna/distributions.py:524: UserWarning: Choices for a categorical distribution should be a tuple of None, bool, int, float and str for persistent storage but contains ('saga', 'l2') which is of type tuple.\n",
      "  warnings.warn(message)\n",
      "/opt/anaconda3/lib/python3.12/site-packages/optuna/distributions.py:524: UserWarning: Choices for a categorical distribution should be a tuple of None, bool, int, float and str for persistent storage but contains ('saga', 'elasticnet') which is of type tuple.\n",
      "  warnings.warn(message)\n",
      "/opt/anaconda3/lib/python3.12/site-packages/optuna/distributions.py:524: UserWarning: Choices for a categorical distribution should be a tuple of None, bool, int, float and str for persistent storage but contains ('liblinear', 'l1') which is of type tuple.\n",
      "  warnings.warn(message)\n",
      "/opt/anaconda3/lib/python3.12/site-packages/optuna/distributions.py:524: UserWarning: Choices for a categorical distribution should be a tuple of None, bool, int, float and str for persistent storage but contains ('liblinear', 'l2') which is of type tuple.\n",
      "  warnings.warn(message)\n",
      "/opt/anaconda3/lib/python3.12/site-packages/optuna/distributions.py:524: UserWarning: Choices for a categorical distribution should be a tuple of None, bool, int, float and str for persistent storage but contains ('sag', 'l2') which is of type tuple.\n",
      "  warnings.warn(message)\n"
     ]
    },
    {
     "name": "stdout",
     "output_type": "stream",
     "text": [
      "✅ SMOTE Applied: New Training Set Shape: (15108, 300), Labels: [7554 7554]\n"
     ]
    },
    {
     "name": "stderr",
     "output_type": "stream",
     "text": [
      "[I 2025-02-23 19:10:09,827] Trial 24 finished with value: 0.5697662140441573 and parameters: {'C': 12.233457376063942, 'solver_penalty': ('saga', 'elasticnet'), 'l1_ratio': 0.6819615154966792}. Best is trial 13 with value: 0.5702294395880063.\n",
      "/opt/anaconda3/lib/python3.12/site-packages/optuna/distributions.py:524: UserWarning: Choices for a categorical distribution should be a tuple of None, bool, int, float and str for persistent storage but contains ('saga', 'l1') which is of type tuple.\n",
      "  warnings.warn(message)\n",
      "/opt/anaconda3/lib/python3.12/site-packages/optuna/distributions.py:524: UserWarning: Choices for a categorical distribution should be a tuple of None, bool, int, float and str for persistent storage but contains ('saga', 'l2') which is of type tuple.\n",
      "  warnings.warn(message)\n",
      "/opt/anaconda3/lib/python3.12/site-packages/optuna/distributions.py:524: UserWarning: Choices for a categorical distribution should be a tuple of None, bool, int, float and str for persistent storage but contains ('saga', 'elasticnet') which is of type tuple.\n",
      "  warnings.warn(message)\n",
      "/opt/anaconda3/lib/python3.12/site-packages/optuna/distributions.py:524: UserWarning: Choices for a categorical distribution should be a tuple of None, bool, int, float and str for persistent storage but contains ('liblinear', 'l1') which is of type tuple.\n",
      "  warnings.warn(message)\n",
      "/opt/anaconda3/lib/python3.12/site-packages/optuna/distributions.py:524: UserWarning: Choices for a categorical distribution should be a tuple of None, bool, int, float and str for persistent storage but contains ('liblinear', 'l2') which is of type tuple.\n",
      "  warnings.warn(message)\n",
      "/opt/anaconda3/lib/python3.12/site-packages/optuna/distributions.py:524: UserWarning: Choices for a categorical distribution should be a tuple of None, bool, int, float and str for persistent storage but contains ('sag', 'l2') which is of type tuple.\n",
      "  warnings.warn(message)\n"
     ]
    },
    {
     "name": "stdout",
     "output_type": "stream",
     "text": [
      "✅ SMOTE Applied: New Training Set Shape: (15108, 300), Labels: [7554 7554]\n"
     ]
    },
    {
     "name": "stderr",
     "output_type": "stream",
     "text": [
      "[I 2025-02-23 19:10:12,827] Trial 25 finished with value: 0.5697662359512533 and parameters: {'C': 0.22354489933920824, 'solver_penalty': ('sag', 'l2')}. Best is trial 13 with value: 0.5702294395880063.\n",
      "/opt/anaconda3/lib/python3.12/site-packages/optuna/distributions.py:524: UserWarning: Choices for a categorical distribution should be a tuple of None, bool, int, float and str for persistent storage but contains ('saga', 'l1') which is of type tuple.\n",
      "  warnings.warn(message)\n",
      "/opt/anaconda3/lib/python3.12/site-packages/optuna/distributions.py:524: UserWarning: Choices for a categorical distribution should be a tuple of None, bool, int, float and str for persistent storage but contains ('saga', 'l2') which is of type tuple.\n",
      "  warnings.warn(message)\n",
      "/opt/anaconda3/lib/python3.12/site-packages/optuna/distributions.py:524: UserWarning: Choices for a categorical distribution should be a tuple of None, bool, int, float and str for persistent storage but contains ('saga', 'elasticnet') which is of type tuple.\n",
      "  warnings.warn(message)\n",
      "/opt/anaconda3/lib/python3.12/site-packages/optuna/distributions.py:524: UserWarning: Choices for a categorical distribution should be a tuple of None, bool, int, float and str for persistent storage but contains ('liblinear', 'l1') which is of type tuple.\n",
      "  warnings.warn(message)\n",
      "/opt/anaconda3/lib/python3.12/site-packages/optuna/distributions.py:524: UserWarning: Choices for a categorical distribution should be a tuple of None, bool, int, float and str for persistent storage but contains ('liblinear', 'l2') which is of type tuple.\n",
      "  warnings.warn(message)\n",
      "/opt/anaconda3/lib/python3.12/site-packages/optuna/distributions.py:524: UserWarning: Choices for a categorical distribution should be a tuple of None, bool, int, float and str for persistent storage but contains ('sag', 'l2') which is of type tuple.\n",
      "  warnings.warn(message)\n"
     ]
    },
    {
     "name": "stdout",
     "output_type": "stream",
     "text": [
      "✅ SMOTE Applied: New Training Set Shape: (15108, 300), Labels: [7554 7554]\n"
     ]
    },
    {
     "name": "stderr",
     "output_type": "stream",
     "text": [
      "/opt/anaconda3/lib/python3.12/site-packages/sklearn/linear_model/_logistic.py:1216: UserWarning: 'n_jobs' > 1 does not have any effect when 'solver' is set to 'liblinear'. Got 'n_jobs' = 8.\n",
      "  warnings.warn(\n",
      "/opt/anaconda3/lib/python3.12/site-packages/sklearn/linear_model/_logistic.py:1216: UserWarning: 'n_jobs' > 1 does not have any effect when 'solver' is set to 'liblinear'. Got 'n_jobs' = 8.\n",
      "  warnings.warn(\n",
      "/opt/anaconda3/lib/python3.12/site-packages/sklearn/linear_model/_logistic.py:1216: UserWarning: 'n_jobs' > 1 does not have any effect when 'solver' is set to 'liblinear'. Got 'n_jobs' = 8.\n",
      "  warnings.warn(\n",
      "/opt/anaconda3/lib/python3.12/site-packages/sklearn/linear_model/_logistic.py:1216: UserWarning: 'n_jobs' > 1 does not have any effect when 'solver' is set to 'liblinear'. Got 'n_jobs' = 8.\n",
      "  warnings.warn(\n",
      "/opt/anaconda3/lib/python3.12/site-packages/sklearn/linear_model/_logistic.py:1216: UserWarning: 'n_jobs' > 1 does not have any effect when 'solver' is set to 'liblinear'. Got 'n_jobs' = 8.\n",
      "  warnings.warn(\n",
      "[I 2025-02-23 19:10:13,717] Trial 26 finished with value: 0.561227835769512 and parameters: {'C': 0.02178570576209293, 'solver_penalty': ('liblinear', 'l1')}. Best is trial 13 with value: 0.5702294395880063.\n",
      "/opt/anaconda3/lib/python3.12/site-packages/optuna/distributions.py:524: UserWarning: Choices for a categorical distribution should be a tuple of None, bool, int, float and str for persistent storage but contains ('saga', 'l1') which is of type tuple.\n",
      "  warnings.warn(message)\n",
      "/opt/anaconda3/lib/python3.12/site-packages/optuna/distributions.py:524: UserWarning: Choices for a categorical distribution should be a tuple of None, bool, int, float and str for persistent storage but contains ('saga', 'l2') which is of type tuple.\n",
      "  warnings.warn(message)\n",
      "/opt/anaconda3/lib/python3.12/site-packages/optuna/distributions.py:524: UserWarning: Choices for a categorical distribution should be a tuple of None, bool, int, float and str for persistent storage but contains ('saga', 'elasticnet') which is of type tuple.\n",
      "  warnings.warn(message)\n",
      "/opt/anaconda3/lib/python3.12/site-packages/optuna/distributions.py:524: UserWarning: Choices for a categorical distribution should be a tuple of None, bool, int, float and str for persistent storage but contains ('liblinear', 'l1') which is of type tuple.\n",
      "  warnings.warn(message)\n",
      "/opt/anaconda3/lib/python3.12/site-packages/optuna/distributions.py:524: UserWarning: Choices for a categorical distribution should be a tuple of None, bool, int, float and str for persistent storage but contains ('liblinear', 'l2') which is of type tuple.\n",
      "  warnings.warn(message)\n",
      "/opt/anaconda3/lib/python3.12/site-packages/optuna/distributions.py:524: UserWarning: Choices for a categorical distribution should be a tuple of None, bool, int, float and str for persistent storage but contains ('sag', 'l2') which is of type tuple.\n",
      "  warnings.warn(message)\n"
     ]
    },
    {
     "name": "stdout",
     "output_type": "stream",
     "text": [
      "✅ SMOTE Applied: New Training Set Shape: (15108, 300), Labels: [7554 7554]\n"
     ]
    },
    {
     "name": "stderr",
     "output_type": "stream",
     "text": [
      "[I 2025-02-23 19:10:16,600] Trial 27 finished with value: 0.5685085714798965 and parameters: {'C': 0.09634711297265651, 'solver_penalty': ('saga', 'l1')}. Best is trial 13 with value: 0.5702294395880063.\n",
      "/opt/anaconda3/lib/python3.12/site-packages/optuna/distributions.py:524: UserWarning: Choices for a categorical distribution should be a tuple of None, bool, int, float and str for persistent storage but contains ('saga', 'l1') which is of type tuple.\n",
      "  warnings.warn(message)\n",
      "/opt/anaconda3/lib/python3.12/site-packages/optuna/distributions.py:524: UserWarning: Choices for a categorical distribution should be a tuple of None, bool, int, float and str for persistent storage but contains ('saga', 'l2') which is of type tuple.\n",
      "  warnings.warn(message)\n",
      "/opt/anaconda3/lib/python3.12/site-packages/optuna/distributions.py:524: UserWarning: Choices for a categorical distribution should be a tuple of None, bool, int, float and str for persistent storage but contains ('saga', 'elasticnet') which is of type tuple.\n",
      "  warnings.warn(message)\n",
      "/opt/anaconda3/lib/python3.12/site-packages/optuna/distributions.py:524: UserWarning: Choices for a categorical distribution should be a tuple of None, bool, int, float and str for persistent storage but contains ('liblinear', 'l1') which is of type tuple.\n",
      "  warnings.warn(message)\n",
      "/opt/anaconda3/lib/python3.12/site-packages/optuna/distributions.py:524: UserWarning: Choices for a categorical distribution should be a tuple of None, bool, int, float and str for persistent storage but contains ('liblinear', 'l2') which is of type tuple.\n",
      "  warnings.warn(message)\n",
      "/opt/anaconda3/lib/python3.12/site-packages/optuna/distributions.py:524: UserWarning: Choices for a categorical distribution should be a tuple of None, bool, int, float and str for persistent storage but contains ('sag', 'l2') which is of type tuple.\n",
      "  warnings.warn(message)\n"
     ]
    },
    {
     "name": "stdout",
     "output_type": "stream",
     "text": [
      "✅ SMOTE Applied: New Training Set Shape: (15108, 300), Labels: [7554 7554]\n"
     ]
    },
    {
     "name": "stderr",
     "output_type": "stream",
     "text": [
      "[I 2025-02-23 19:10:18,930] Trial 28 finished with value: 0.5698324172881162 and parameters: {'C': 1.5319419998027548, 'solver_penalty': ('saga', 'l2')}. Best is trial 13 with value: 0.5702294395880063.\n",
      "/opt/anaconda3/lib/python3.12/site-packages/optuna/distributions.py:524: UserWarning: Choices for a categorical distribution should be a tuple of None, bool, int, float and str for persistent storage but contains ('saga', 'l1') which is of type tuple.\n",
      "  warnings.warn(message)\n",
      "/opt/anaconda3/lib/python3.12/site-packages/optuna/distributions.py:524: UserWarning: Choices for a categorical distribution should be a tuple of None, bool, int, float and str for persistent storage but contains ('saga', 'l2') which is of type tuple.\n",
      "  warnings.warn(message)\n",
      "/opt/anaconda3/lib/python3.12/site-packages/optuna/distributions.py:524: UserWarning: Choices for a categorical distribution should be a tuple of None, bool, int, float and str for persistent storage but contains ('saga', 'elasticnet') which is of type tuple.\n",
      "  warnings.warn(message)\n",
      "/opt/anaconda3/lib/python3.12/site-packages/optuna/distributions.py:524: UserWarning: Choices for a categorical distribution should be a tuple of None, bool, int, float and str for persistent storage but contains ('liblinear', 'l1') which is of type tuple.\n",
      "  warnings.warn(message)\n",
      "/opt/anaconda3/lib/python3.12/site-packages/optuna/distributions.py:524: UserWarning: Choices for a categorical distribution should be a tuple of None, bool, int, float and str for persistent storage but contains ('liblinear', 'l2') which is of type tuple.\n",
      "  warnings.warn(message)\n",
      "/opt/anaconda3/lib/python3.12/site-packages/optuna/distributions.py:524: UserWarning: Choices for a categorical distribution should be a tuple of None, bool, int, float and str for persistent storage but contains ('sag', 'l2') which is of type tuple.\n",
      "  warnings.warn(message)\n"
     ]
    },
    {
     "name": "stdout",
     "output_type": "stream",
     "text": [
      "✅ SMOTE Applied: New Training Set Shape: (15108, 300), Labels: [7554 7554]\n"
     ]
    },
    {
     "name": "stderr",
     "output_type": "stream",
     "text": [
      "[I 2025-02-23 19:10:21,309] Trial 29 finished with value: 0.5698324172881162 and parameters: {'C': 31.05232682694059, 'solver_penalty': ('saga', 'l2')}. Best is trial 13 with value: 0.5702294395880063.\n",
      "/opt/anaconda3/lib/python3.12/site-packages/optuna/distributions.py:524: UserWarning: Choices for a categorical distribution should be a tuple of None, bool, int, float and str for persistent storage but contains ('saga', 'l1') which is of type tuple.\n",
      "  warnings.warn(message)\n",
      "/opt/anaconda3/lib/python3.12/site-packages/optuna/distributions.py:524: UserWarning: Choices for a categorical distribution should be a tuple of None, bool, int, float and str for persistent storage but contains ('saga', 'l2') which is of type tuple.\n",
      "  warnings.warn(message)\n",
      "/opt/anaconda3/lib/python3.12/site-packages/optuna/distributions.py:524: UserWarning: Choices for a categorical distribution should be a tuple of None, bool, int, float and str for persistent storage but contains ('saga', 'elasticnet') which is of type tuple.\n",
      "  warnings.warn(message)\n",
      "/opt/anaconda3/lib/python3.12/site-packages/optuna/distributions.py:524: UserWarning: Choices for a categorical distribution should be a tuple of None, bool, int, float and str for persistent storage but contains ('liblinear', 'l1') which is of type tuple.\n",
      "  warnings.warn(message)\n",
      "/opt/anaconda3/lib/python3.12/site-packages/optuna/distributions.py:524: UserWarning: Choices for a categorical distribution should be a tuple of None, bool, int, float and str for persistent storage but contains ('liblinear', 'l2') which is of type tuple.\n",
      "  warnings.warn(message)\n",
      "/opt/anaconda3/lib/python3.12/site-packages/optuna/distributions.py:524: UserWarning: Choices for a categorical distribution should be a tuple of None, bool, int, float and str for persistent storage but contains ('sag', 'l2') which is of type tuple.\n",
      "  warnings.warn(message)\n"
     ]
    },
    {
     "name": "stdout",
     "output_type": "stream",
     "text": [
      "✅ SMOTE Applied: New Training Set Shape: (15108, 300), Labels: [7554 7554]\n"
     ]
    },
    {
     "name": "stderr",
     "output_type": "stream",
     "text": [
      "[I 2025-02-23 19:10:24,278] Trial 30 finished with value: 0.5698986205320751 and parameters: {'C': 165.6391479471606, 'solver_penalty': ('saga', 'elasticnet'), 'l1_ratio': 0.4546758671559349}. Best is trial 13 with value: 0.5702294395880063.\n",
      "/opt/anaconda3/lib/python3.12/site-packages/optuna/distributions.py:524: UserWarning: Choices for a categorical distribution should be a tuple of None, bool, int, float and str for persistent storage but contains ('saga', 'l1') which is of type tuple.\n",
      "  warnings.warn(message)\n",
      "/opt/anaconda3/lib/python3.12/site-packages/optuna/distributions.py:524: UserWarning: Choices for a categorical distribution should be a tuple of None, bool, int, float and str for persistent storage but contains ('saga', 'l2') which is of type tuple.\n",
      "  warnings.warn(message)\n",
      "/opt/anaconda3/lib/python3.12/site-packages/optuna/distributions.py:524: UserWarning: Choices for a categorical distribution should be a tuple of None, bool, int, float and str for persistent storage but contains ('saga', 'elasticnet') which is of type tuple.\n",
      "  warnings.warn(message)\n",
      "/opt/anaconda3/lib/python3.12/site-packages/optuna/distributions.py:524: UserWarning: Choices for a categorical distribution should be a tuple of None, bool, int, float and str for persistent storage but contains ('liblinear', 'l1') which is of type tuple.\n",
      "  warnings.warn(message)\n",
      "/opt/anaconda3/lib/python3.12/site-packages/optuna/distributions.py:524: UserWarning: Choices for a categorical distribution should be a tuple of None, bool, int, float and str for persistent storage but contains ('liblinear', 'l2') which is of type tuple.\n",
      "  warnings.warn(message)\n",
      "/opt/anaconda3/lib/python3.12/site-packages/optuna/distributions.py:524: UserWarning: Choices for a categorical distribution should be a tuple of None, bool, int, float and str for persistent storage but contains ('sag', 'l2') which is of type tuple.\n",
      "  warnings.warn(message)\n"
     ]
    },
    {
     "name": "stdout",
     "output_type": "stream",
     "text": [
      "✅ SMOTE Applied: New Training Set Shape: (15108, 300), Labels: [7554 7554]\n"
     ]
    },
    {
     "name": "stderr",
     "output_type": "stream",
     "text": [
      "[I 2025-02-23 19:10:27,294] Trial 31 finished with value: 0.5699646923334585 and parameters: {'C': 0.6708331311122674, 'solver_penalty': ('saga', 'elasticnet'), 'l1_ratio': 0.9971060580690851}. Best is trial 13 with value: 0.5702294395880063.\n",
      "/opt/anaconda3/lib/python3.12/site-packages/optuna/distributions.py:524: UserWarning: Choices for a categorical distribution should be a tuple of None, bool, int, float and str for persistent storage but contains ('saga', 'l1') which is of type tuple.\n",
      "  warnings.warn(message)\n",
      "/opt/anaconda3/lib/python3.12/site-packages/optuna/distributions.py:524: UserWarning: Choices for a categorical distribution should be a tuple of None, bool, int, float and str for persistent storage but contains ('saga', 'l2') which is of type tuple.\n",
      "  warnings.warn(message)\n",
      "/opt/anaconda3/lib/python3.12/site-packages/optuna/distributions.py:524: UserWarning: Choices for a categorical distribution should be a tuple of None, bool, int, float and str for persistent storage but contains ('saga', 'elasticnet') which is of type tuple.\n",
      "  warnings.warn(message)\n",
      "/opt/anaconda3/lib/python3.12/site-packages/optuna/distributions.py:524: UserWarning: Choices for a categorical distribution should be a tuple of None, bool, int, float and str for persistent storage but contains ('liblinear', 'l1') which is of type tuple.\n",
      "  warnings.warn(message)\n",
      "/opt/anaconda3/lib/python3.12/site-packages/optuna/distributions.py:524: UserWarning: Choices for a categorical distribution should be a tuple of None, bool, int, float and str for persistent storage but contains ('liblinear', 'l2') which is of type tuple.\n",
      "  warnings.warn(message)\n",
      "/opt/anaconda3/lib/python3.12/site-packages/optuna/distributions.py:524: UserWarning: Choices for a categorical distribution should be a tuple of None, bool, int, float and str for persistent storage but contains ('sag', 'l2') which is of type tuple.\n",
      "  warnings.warn(message)\n"
     ]
    },
    {
     "name": "stdout",
     "output_type": "stream",
     "text": [
      "✅ SMOTE Applied: New Training Set Shape: (15108, 300), Labels: [7554 7554]\n"
     ]
    },
    {
     "name": "stderr",
     "output_type": "stream",
     "text": [
      "[I 2025-02-23 19:10:30,198] Trial 32 finished with value: 0.5698324172881162 and parameters: {'C': 9.642240217325583, 'solver_penalty': ('saga', 'elasticnet'), 'l1_ratio': 0.9110365038990479}. Best is trial 13 with value: 0.5702294395880063.\n",
      "/opt/anaconda3/lib/python3.12/site-packages/optuna/distributions.py:524: UserWarning: Choices for a categorical distribution should be a tuple of None, bool, int, float and str for persistent storage but contains ('saga', 'l1') which is of type tuple.\n",
      "  warnings.warn(message)\n",
      "/opt/anaconda3/lib/python3.12/site-packages/optuna/distributions.py:524: UserWarning: Choices for a categorical distribution should be a tuple of None, bool, int, float and str for persistent storage but contains ('saga', 'l2') which is of type tuple.\n",
      "  warnings.warn(message)\n",
      "/opt/anaconda3/lib/python3.12/site-packages/optuna/distributions.py:524: UserWarning: Choices for a categorical distribution should be a tuple of None, bool, int, float and str for persistent storage but contains ('saga', 'elasticnet') which is of type tuple.\n",
      "  warnings.warn(message)\n",
      "/opt/anaconda3/lib/python3.12/site-packages/optuna/distributions.py:524: UserWarning: Choices for a categorical distribution should be a tuple of None, bool, int, float and str for persistent storage but contains ('liblinear', 'l1') which is of type tuple.\n",
      "  warnings.warn(message)\n",
      "/opt/anaconda3/lib/python3.12/site-packages/optuna/distributions.py:524: UserWarning: Choices for a categorical distribution should be a tuple of None, bool, int, float and str for persistent storage but contains ('liblinear', 'l2') which is of type tuple.\n",
      "  warnings.warn(message)\n",
      "/opt/anaconda3/lib/python3.12/site-packages/optuna/distributions.py:524: UserWarning: Choices for a categorical distribution should be a tuple of None, bool, int, float and str for persistent storage but contains ('sag', 'l2') which is of type tuple.\n",
      "  warnings.warn(message)\n"
     ]
    },
    {
     "name": "stdout",
     "output_type": "stream",
     "text": [
      "✅ SMOTE Applied: New Training Set Shape: (15108, 300), Labels: [7554 7554]\n"
     ]
    },
    {
     "name": "stderr",
     "output_type": "stream",
     "text": [
      "[I 2025-02-23 19:10:33,251] Trial 33 finished with value: 0.5696338294633352 and parameters: {'C': 0.25444265089040147, 'solver_penalty': ('saga', 'elasticnet'), 'l1_ratio': 0.9311851248004306}. Best is trial 13 with value: 0.5702294395880063.\n",
      "/opt/anaconda3/lib/python3.12/site-packages/optuna/distributions.py:524: UserWarning: Choices for a categorical distribution should be a tuple of None, bool, int, float and str for persistent storage but contains ('saga', 'l1') which is of type tuple.\n",
      "  warnings.warn(message)\n",
      "/opt/anaconda3/lib/python3.12/site-packages/optuna/distributions.py:524: UserWarning: Choices for a categorical distribution should be a tuple of None, bool, int, float and str for persistent storage but contains ('saga', 'l2') which is of type tuple.\n",
      "  warnings.warn(message)\n",
      "/opt/anaconda3/lib/python3.12/site-packages/optuna/distributions.py:524: UserWarning: Choices for a categorical distribution should be a tuple of None, bool, int, float and str for persistent storage but contains ('saga', 'elasticnet') which is of type tuple.\n",
      "  warnings.warn(message)\n",
      "/opt/anaconda3/lib/python3.12/site-packages/optuna/distributions.py:524: UserWarning: Choices for a categorical distribution should be a tuple of None, bool, int, float and str for persistent storage but contains ('liblinear', 'l1') which is of type tuple.\n",
      "  warnings.warn(message)\n",
      "/opt/anaconda3/lib/python3.12/site-packages/optuna/distributions.py:524: UserWarning: Choices for a categorical distribution should be a tuple of None, bool, int, float and str for persistent storage but contains ('liblinear', 'l2') which is of type tuple.\n",
      "  warnings.warn(message)\n",
      "/opt/anaconda3/lib/python3.12/site-packages/optuna/distributions.py:524: UserWarning: Choices for a categorical distribution should be a tuple of None, bool, int, float and str for persistent storage but contains ('sag', 'l2') which is of type tuple.\n",
      "  warnings.warn(message)\n"
     ]
    },
    {
     "name": "stdout",
     "output_type": "stream",
     "text": [
      "✅ SMOTE Applied: New Training Set Shape: (15108, 300), Labels: [7554 7554]\n"
     ]
    },
    {
     "name": "stderr",
     "output_type": "stream",
     "text": [
      "[I 2025-02-23 19:10:35,763] Trial 34 finished with value: 0.5698986205320751 and parameters: {'C': 2.2210148587928895, 'solver_penalty': ('saga', 'l2')}. Best is trial 13 with value: 0.5702294395880063.\n",
      "/opt/anaconda3/lib/python3.12/site-packages/optuna/distributions.py:524: UserWarning: Choices for a categorical distribution should be a tuple of None, bool, int, float and str for persistent storage but contains ('saga', 'l1') which is of type tuple.\n",
      "  warnings.warn(message)\n",
      "/opt/anaconda3/lib/python3.12/site-packages/optuna/distributions.py:524: UserWarning: Choices for a categorical distribution should be a tuple of None, bool, int, float and str for persistent storage but contains ('saga', 'l2') which is of type tuple.\n",
      "  warnings.warn(message)\n",
      "/opt/anaconda3/lib/python3.12/site-packages/optuna/distributions.py:524: UserWarning: Choices for a categorical distribution should be a tuple of None, bool, int, float and str for persistent storage but contains ('saga', 'elasticnet') which is of type tuple.\n",
      "  warnings.warn(message)\n",
      "/opt/anaconda3/lib/python3.12/site-packages/optuna/distributions.py:524: UserWarning: Choices for a categorical distribution should be a tuple of None, bool, int, float and str for persistent storage but contains ('liblinear', 'l1') which is of type tuple.\n",
      "  warnings.warn(message)\n",
      "/opt/anaconda3/lib/python3.12/site-packages/optuna/distributions.py:524: UserWarning: Choices for a categorical distribution should be a tuple of None, bool, int, float and str for persistent storage but contains ('liblinear', 'l2') which is of type tuple.\n",
      "  warnings.warn(message)\n",
      "/opt/anaconda3/lib/python3.12/site-packages/optuna/distributions.py:524: UserWarning: Choices for a categorical distribution should be a tuple of None, bool, int, float and str for persistent storage but contains ('sag', 'l2') which is of type tuple.\n",
      "  warnings.warn(message)\n"
     ]
    },
    {
     "name": "stdout",
     "output_type": "stream",
     "text": [
      "✅ SMOTE Applied: New Training Set Shape: (15108, 300), Labels: [7554 7554]\n"
     ]
    },
    {
     "name": "stderr",
     "output_type": "stream",
     "text": [
      "/opt/anaconda3/lib/python3.12/site-packages/sklearn/linear_model/_logistic.py:1216: UserWarning: 'n_jobs' > 1 does not have any effect when 'solver' is set to 'liblinear'. Got 'n_jobs' = 8.\n",
      "  warnings.warn(\n",
      "/opt/anaconda3/lib/python3.12/site-packages/sklearn/linear_model/_logistic.py:1216: UserWarning: 'n_jobs' > 1 does not have any effect when 'solver' is set to 'liblinear'. Got 'n_jobs' = 8.\n",
      "  warnings.warn(\n",
      "/opt/anaconda3/lib/python3.12/site-packages/sklearn/linear_model/_logistic.py:1216: UserWarning: 'n_jobs' > 1 does not have any effect when 'solver' is set to 'liblinear'. Got 'n_jobs' = 8.\n",
      "  warnings.warn(\n",
      "/opt/anaconda3/lib/python3.12/site-packages/sklearn/linear_model/_logistic.py:1216: UserWarning: 'n_jobs' > 1 does not have any effect when 'solver' is set to 'liblinear'. Got 'n_jobs' = 8.\n",
      "  warnings.warn(\n",
      "/opt/anaconda3/lib/python3.12/site-packages/sklearn/linear_model/_logistic.py:1216: UserWarning: 'n_jobs' > 1 does not have any effect when 'solver' is set to 'liblinear'. Got 'n_jobs' = 8.\n",
      "  warnings.warn(\n",
      "[I 2025-02-23 19:10:37,003] Trial 35 finished with value: 0.5698324391952123 and parameters: {'C': 0.530287462161384, 'solver_penalty': ('liblinear', 'l2')}. Best is trial 13 with value: 0.5702294395880063.\n",
      "/opt/anaconda3/lib/python3.12/site-packages/optuna/distributions.py:524: UserWarning: Choices for a categorical distribution should be a tuple of None, bool, int, float and str for persistent storage but contains ('saga', 'l1') which is of type tuple.\n",
      "  warnings.warn(message)\n",
      "/opt/anaconda3/lib/python3.12/site-packages/optuna/distributions.py:524: UserWarning: Choices for a categorical distribution should be a tuple of None, bool, int, float and str for persistent storage but contains ('saga', 'l2') which is of type tuple.\n",
      "  warnings.warn(message)\n",
      "/opt/anaconda3/lib/python3.12/site-packages/optuna/distributions.py:524: UserWarning: Choices for a categorical distribution should be a tuple of None, bool, int, float and str for persistent storage but contains ('saga', 'elasticnet') which is of type tuple.\n",
      "  warnings.warn(message)\n",
      "/opt/anaconda3/lib/python3.12/site-packages/optuna/distributions.py:524: UserWarning: Choices for a categorical distribution should be a tuple of None, bool, int, float and str for persistent storage but contains ('liblinear', 'l1') which is of type tuple.\n",
      "  warnings.warn(message)\n",
      "/opt/anaconda3/lib/python3.12/site-packages/optuna/distributions.py:524: UserWarning: Choices for a categorical distribution should be a tuple of None, bool, int, float and str for persistent storage but contains ('liblinear', 'l2') which is of type tuple.\n",
      "  warnings.warn(message)\n",
      "/opt/anaconda3/lib/python3.12/site-packages/optuna/distributions.py:524: UserWarning: Choices for a categorical distribution should be a tuple of None, bool, int, float and str for persistent storage but contains ('sag', 'l2') which is of type tuple.\n",
      "  warnings.warn(message)\n"
     ]
    },
    {
     "name": "stdout",
     "output_type": "stream",
     "text": [
      "✅ SMOTE Applied: New Training Set Shape: (15108, 300), Labels: [7554 7554]\n"
     ]
    },
    {
     "name": "stderr",
     "output_type": "stream",
     "text": [
      "[I 2025-02-23 19:10:40,025] Trial 36 finished with value: 0.5681116149012942 and parameters: {'C': 0.05460599505670376, 'solver_penalty': ('saga', 'elasticnet'), 'l1_ratio': 0.7180254208854782}. Best is trial 13 with value: 0.5702294395880063.\n",
      "/opt/anaconda3/lib/python3.12/site-packages/optuna/distributions.py:524: UserWarning: Choices for a categorical distribution should be a tuple of None, bool, int, float and str for persistent storage but contains ('saga', 'l1') which is of type tuple.\n",
      "  warnings.warn(message)\n",
      "/opt/anaconda3/lib/python3.12/site-packages/optuna/distributions.py:524: UserWarning: Choices for a categorical distribution should be a tuple of None, bool, int, float and str for persistent storage but contains ('saga', 'l2') which is of type tuple.\n",
      "  warnings.warn(message)\n",
      "/opt/anaconda3/lib/python3.12/site-packages/optuna/distributions.py:524: UserWarning: Choices for a categorical distribution should be a tuple of None, bool, int, float and str for persistent storage but contains ('saga', 'elasticnet') which is of type tuple.\n",
      "  warnings.warn(message)\n",
      "/opt/anaconda3/lib/python3.12/site-packages/optuna/distributions.py:524: UserWarning: Choices for a categorical distribution should be a tuple of None, bool, int, float and str for persistent storage but contains ('liblinear', 'l1') which is of type tuple.\n",
      "  warnings.warn(message)\n",
      "/opt/anaconda3/lib/python3.12/site-packages/optuna/distributions.py:524: UserWarning: Choices for a categorical distribution should be a tuple of None, bool, int, float and str for persistent storage but contains ('liblinear', 'l2') which is of type tuple.\n",
      "  warnings.warn(message)\n",
      "/opt/anaconda3/lib/python3.12/site-packages/optuna/distributions.py:524: UserWarning: Choices for a categorical distribution should be a tuple of None, bool, int, float and str for persistent storage but contains ('sag', 'l2') which is of type tuple.\n",
      "  warnings.warn(message)\n"
     ]
    },
    {
     "name": "stdout",
     "output_type": "stream",
     "text": [
      "✅ SMOTE Applied: New Training Set Shape: (15108, 300), Labels: [7554 7554]\n"
     ]
    },
    {
     "name": "stderr",
     "output_type": "stream",
     "text": [
      "/opt/anaconda3/lib/python3.12/site-packages/sklearn/linear_model/_logistic.py:1216: UserWarning: 'n_jobs' > 1 does not have any effect when 'solver' is set to 'liblinear'. Got 'n_jobs' = 8.\n",
      "  warnings.warn(\n",
      "/opt/anaconda3/lib/python3.12/site-packages/sklearn/linear_model/_logistic.py:1216: UserWarning: 'n_jobs' > 1 does not have any effect when 'solver' is set to 'liblinear'. Got 'n_jobs' = 8.\n",
      "  warnings.warn(\n",
      "/opt/anaconda3/lib/python3.12/site-packages/sklearn/linear_model/_logistic.py:1216: UserWarning: 'n_jobs' > 1 does not have any effect when 'solver' is set to 'liblinear'. Got 'n_jobs' = 8.\n",
      "  warnings.warn(\n",
      "/opt/anaconda3/lib/python3.12/site-packages/sklearn/linear_model/_logistic.py:1216: UserWarning: 'n_jobs' > 1 does not have any effect when 'solver' is set to 'liblinear'. Got 'n_jobs' = 8.\n",
      "  warnings.warn(\n",
      "/opt/anaconda3/lib/python3.12/site-packages/sklearn/linear_model/_logistic.py:1216: UserWarning: 'n_jobs' > 1 does not have any effect when 'solver' is set to 'liblinear'. Got 'n_jobs' = 8.\n",
      "  warnings.warn(\n",
      "[I 2025-02-23 19:10:40,793] Trial 37 finished with value: 0.5544757620985771 and parameters: {'C': 0.009041591553335325, 'solver_penalty': ('liblinear', 'l1')}. Best is trial 13 with value: 0.5702294395880063.\n",
      "/opt/anaconda3/lib/python3.12/site-packages/optuna/distributions.py:524: UserWarning: Choices for a categorical distribution should be a tuple of None, bool, int, float and str for persistent storage but contains ('saga', 'l1') which is of type tuple.\n",
      "  warnings.warn(message)\n",
      "/opt/anaconda3/lib/python3.12/site-packages/optuna/distributions.py:524: UserWarning: Choices for a categorical distribution should be a tuple of None, bool, int, float and str for persistent storage but contains ('saga', 'l2') which is of type tuple.\n",
      "  warnings.warn(message)\n",
      "/opt/anaconda3/lib/python3.12/site-packages/optuna/distributions.py:524: UserWarning: Choices for a categorical distribution should be a tuple of None, bool, int, float and str for persistent storage but contains ('saga', 'elasticnet') which is of type tuple.\n",
      "  warnings.warn(message)\n",
      "/opt/anaconda3/lib/python3.12/site-packages/optuna/distributions.py:524: UserWarning: Choices for a categorical distribution should be a tuple of None, bool, int, float and str for persistent storage but contains ('liblinear', 'l1') which is of type tuple.\n",
      "  warnings.warn(message)\n",
      "/opt/anaconda3/lib/python3.12/site-packages/optuna/distributions.py:524: UserWarning: Choices for a categorical distribution should be a tuple of None, bool, int, float and str for persistent storage but contains ('liblinear', 'l2') which is of type tuple.\n",
      "  warnings.warn(message)\n",
      "/opt/anaconda3/lib/python3.12/site-packages/optuna/distributions.py:524: UserWarning: Choices for a categorical distribution should be a tuple of None, bool, int, float and str for persistent storage but contains ('sag', 'l2') which is of type tuple.\n",
      "  warnings.warn(message)\n"
     ]
    },
    {
     "name": "stdout",
     "output_type": "stream",
     "text": [
      "✅ SMOTE Applied: New Training Set Shape: (15108, 300), Labels: [7554 7554]\n"
     ]
    },
    {
     "name": "stderr",
     "output_type": "stream",
     "text": [
      "[I 2025-02-23 19:10:41,752] Trial 38 finished with value: 0.5 and parameters: {'C': 0.0004075167271656324, 'solver_penalty': ('saga', 'elasticnet'), 'l1_ratio': 0.9062441075735803}. Best is trial 13 with value: 0.5702294395880063.\n",
      "/opt/anaconda3/lib/python3.12/site-packages/optuna/distributions.py:524: UserWarning: Choices for a categorical distribution should be a tuple of None, bool, int, float and str for persistent storage but contains ('saga', 'l1') which is of type tuple.\n",
      "  warnings.warn(message)\n",
      "/opt/anaconda3/lib/python3.12/site-packages/optuna/distributions.py:524: UserWarning: Choices for a categorical distribution should be a tuple of None, bool, int, float and str for persistent storage but contains ('saga', 'l2') which is of type tuple.\n",
      "  warnings.warn(message)\n",
      "/opt/anaconda3/lib/python3.12/site-packages/optuna/distributions.py:524: UserWarning: Choices for a categorical distribution should be a tuple of None, bool, int, float and str for persistent storage but contains ('saga', 'elasticnet') which is of type tuple.\n",
      "  warnings.warn(message)\n",
      "/opt/anaconda3/lib/python3.12/site-packages/optuna/distributions.py:524: UserWarning: Choices for a categorical distribution should be a tuple of None, bool, int, float and str for persistent storage but contains ('liblinear', 'l1') which is of type tuple.\n",
      "  warnings.warn(message)\n",
      "/opt/anaconda3/lib/python3.12/site-packages/optuna/distributions.py:524: UserWarning: Choices for a categorical distribution should be a tuple of None, bool, int, float and str for persistent storage but contains ('liblinear', 'l2') which is of type tuple.\n",
      "  warnings.warn(message)\n",
      "/opt/anaconda3/lib/python3.12/site-packages/optuna/distributions.py:524: UserWarning: Choices for a categorical distribution should be a tuple of None, bool, int, float and str for persistent storage but contains ('sag', 'l2') which is of type tuple.\n",
      "  warnings.warn(message)\n"
     ]
    },
    {
     "name": "stdout",
     "output_type": "stream",
     "text": [
      "✅ SMOTE Applied: New Training Set Shape: (15108, 300), Labels: [7554 7554]\n"
     ]
    },
    {
     "name": "stderr",
     "output_type": "stream",
     "text": [
      "/opt/anaconda3/lib/python3.12/site-packages/sklearn/linear_model/_logistic.py:1216: UserWarning: 'n_jobs' > 1 does not have any effect when 'solver' is set to 'liblinear'. Got 'n_jobs' = 8.\n",
      "  warnings.warn(\n",
      "/opt/anaconda3/lib/python3.12/site-packages/sklearn/linear_model/_logistic.py:1216: UserWarning: 'n_jobs' > 1 does not have any effect when 'solver' is set to 'liblinear'. Got 'n_jobs' = 8.\n",
      "  warnings.warn(\n",
      "/opt/anaconda3/lib/python3.12/site-packages/sklearn/linear_model/_logistic.py:1216: UserWarning: 'n_jobs' > 1 does not have any effect when 'solver' is set to 'liblinear'. Got 'n_jobs' = 8.\n",
      "  warnings.warn(\n",
      "/opt/anaconda3/lib/python3.12/site-packages/sklearn/linear_model/_logistic.py:1216: UserWarning: 'n_jobs' > 1 does not have any effect when 'solver' is set to 'liblinear'. Got 'n_jobs' = 8.\n",
      "  warnings.warn(\n",
      "/opt/anaconda3/lib/python3.12/site-packages/sklearn/linear_model/_logistic.py:1216: UserWarning: 'n_jobs' > 1 does not have any effect when 'solver' is set to 'liblinear'. Got 'n_jobs' = 8.\n",
      "  warnings.warn(\n",
      "[I 2025-02-23 19:10:42,866] Trial 39 finished with value: 0.5698986205320751 and parameters: {'C': 5.6058548611402355, 'solver_penalty': ('liblinear', 'l2')}. Best is trial 13 with value: 0.5702294395880063.\n"
     ]
    },
    {
     "name": "stdout",
     "output_type": "stream",
     "text": [
      "✅ Best Parameters (Optuna Fixed + SMOTE): {'C': 0.4566463203883709, 'solver_penalty': ('saga', 'elasticnet'), 'l1_ratio': 0.9191862512529112}\n",
      "✅ Best Accuracy (Optuna Fixed + SMOTE): 0.5702\n",
      "✅ Final Tuned Logistic Regression Accuracy (SMOTE Applied): 0.5272\n",
      "✅ Final Classification Report:\n",
      "               precision    recall  f1-score   support\n",
      "\n",
      "         0.0       0.67      0.55      0.61      1889\n",
      "         1.0       0.36      0.48      0.41       979\n",
      "\n",
      "    accuracy                           0.53      2868\n",
      "   macro avg       0.51      0.52      0.51      2868\n",
      "weighted avg       0.56      0.53      0.54      2868\n",
      "\n"
     ]
    }
   ],
   "source": [
    "import optuna\n",
    "import numpy as np\n",
    "from imblearn.over_sampling import SMOTE\n",
    "from sklearn.linear_model import LogisticRegression\n",
    "from sklearn.model_selection import cross_val_score, train_test_split\n",
    "from sklearn.preprocessing import StandardScaler\n",
    "from sklearn.metrics import accuracy_score, classification_report\n",
    "\n",
    "#Standardize Data\n",
    "scaler = StandardScaler()\n",
    "X_train_scaled = scaler.fit_transform(X_train_pca)\n",
    "X_test_scaled = scaler.transform(X_test_pca)\n",
    "\n",
    "#Fixed Search Space with Valid Solver-Penalty Pairs\n",
    "valid_solver_penalty = [\n",
    "    (\"saga\", \"l1\"), (\"saga\", \"l2\"), (\"saga\", \"elasticnet\"),\n",
    "    (\"liblinear\", \"l1\"), (\"liblinear\", \"l2\"),\n",
    "    (\"sag\", \"l2\")\n",
    "]\n",
    "\n",
    "def objective(trial):\n",
    "    C = trial.suggest_float(\"C\", 0.0001, 1000, log=True)  # Regularization strength\n",
    "    solver, penalty = trial.suggest_categorical(\"solver_penalty\", valid_solver_penalty)  # Predefined valid pairs\n",
    "\n",
    "    #Handle ElasticNet\n",
    "    l1_ratio = trial.suggest_float(\"l1_ratio\", 0.1, 1.0) if penalty == \"elasticnet\" else None\n",
    "\n",
    "    #Apply SMOTE to Balance Classes\n",
    "    smote = SMOTE(sampling_strategy='auto', random_state=42)\n",
    "    X_resampled, y_resampled = smote.fit_resample(X_train_scaled, y_train)\n",
    "\n",
    "    #Convert y_resampled to int for np.bincount\n",
    "    y_resampled = y_resampled.astype(int)\n",
    "\n",
    "    print(f\"✅ SMOTE Applied: New Training Set Shape: {X_resampled.shape}, Labels: {np.bincount(y_resampled)}\")\n",
    "    model = LogisticRegression(\n",
    "        C=C, solver=solver, penalty=penalty, class_weight=\"balanced\",\n",
    "        max_iter=1000, n_jobs=-1, l1_ratio=l1_ratio\n",
    "    )\n",
    "\n",
    "    #Cross-validation to evaluate accuracy\n",
    "    score = cross_val_score(model, X_resampled, y_resampled, cv=5, scoring=\"accuracy\").mean()\n",
    "    \n",
    "    return score\n",
    "\n",
    "#Run Optuna\n",
    "study = optuna.create_study(direction=\"maximize\")  \n",
    "study.optimize(objective, n_trials=40)  #Trials for better tuning\n",
    "best_params = study.best_params\n",
    "best_solver, best_penalty = best_params[\"solver_penalty\"]\n",
    "\n",
    "print(f\"✅ Best Parameters (Optuna Fixed + SMOTE): {best_params}\")\n",
    "print(f\"✅ Best Accuracy (Optuna Fixed + SMOTE): {study.best_value:.4f}\")\n",
    "\n",
    "#Final Model Training on Best Parameters\n",
    "smote = SMOTE(sampling_strategy='auto', random_state=42)\n",
    "X_train_resampled, y_train_resampled = smote.fit_resample(X_train_scaled, y_train)\n",
    "y_train_resampled = y_train_resampled.astype(int)\n",
    "\n",
    "best_log_reg = LogisticRegression(\n",
    "    C=best_params[\"C\"], solver=best_solver, penalty=best_penalty,\n",
    "    class_weight=\"balanced\", max_iter=1000, n_jobs=-1,\n",
    "    l1_ratio=best_params.get(\"l1_ratio\", None)\n",
    ")\n",
    "\n",
    "best_log_reg.fit(X_train_resampled, y_train_resampled)  # Train on balanced dataset\n",
    "y_pred_best = best_log_reg.predict(X_test_scaled)\n",
    "accuracy_best = accuracy_score(y_test, y_pred_best)\n",
    "\n",
    "print(f\"✅ Final Tuned Logistic Regression Accuracy (SMOTE Applied): {accuracy_best:.4f}\")\n",
    "print(\"✅ Final Classification Report:\\n\", classification_report(y_test, y_pred_best))\n"
   ]
  },
  {
   "cell_type": "code",
   "execution_count": 1,
   "id": "eae3ce3c-1fdf-45ec-b135-f134f00e8f39",
   "metadata": {},
   "outputs": [
    {
     "name": "stdout",
     "output_type": "stream",
     "text": [
      "✅ Training Set Shape After SMOTE: (15108, 300)\n",
      "✅ Class Distribution After SMOTE: [7554 7554]\n",
      "✅ SVM Accuracy (With PCA, No Hyperparameter Tuning): 0.5607\n",
      "✅ Classification Report:\n",
      "               precision    recall  f1-score   support\n",
      "\n",
      "         0.0       0.69      0.62      0.65      1889\n",
      "         1.0       0.38      0.45      0.41       979\n",
      "\n",
      "    accuracy                           0.56      2868\n",
      "   macro avg       0.53      0.54      0.53      2868\n",
      "weighted avg       0.58      0.56      0.57      2868\n",
      "\n"
     ]
    }
   ],
   "source": [
    "import numpy as np\n",
    "from sklearn.svm import SVC\n",
    "from sklearn.metrics import accuracy_score, classification_report\n",
    "from imblearn.over_sampling import SMOTE\n",
    "\n",
    "X_train_pca = np.load(\"X_train_pca.npy\")\n",
    "X_test_pca = np.load(\"X_test_pca.npy\")\n",
    "y_train = np.load(\"y_train.npy\")\n",
    "y_test = np.load(\"y_test.npy\")\n",
    "\n",
    "#SMOTE to Balance Classes\n",
    "smote = SMOTE(sampling_strategy='auto', random_state=42)\n",
    "X_train_resampled, y_train_resampled = smote.fit_resample(X_train_pca, y_train)\n",
    "\n",
    "print(f\"✅ Training Set Shape After SMOTE: {X_train_resampled.shape}\")\n",
    "print(f\"✅ Class Distribution After SMOTE: {np.bincount(y_train_resampled.astype(int))}\")\n",
    "\n",
    "#Train Basic SVM\n",
    "svm_clf = SVC(kernel='rbf', C=1.0, class_weight=\"balanced\", random_state=42)\n",
    "svm_clf.fit(X_train_resampled, y_train_resampled)\n",
    "y_pred_svm = svm_clf.predict(X_test_pca)\n",
    "\n",
    "accuracy_svm = accuracy_score(y_test, y_pred_svm)\n",
    "print(f\"✅ SVM Accuracy (With PCA, No Hyperparameter Tuning): {accuracy_svm:.4f}\")\n",
    "print(\"✅ Classification Report:\\n\", classification_report(y_test, y_pred_svm))\n"
   ]
  },
  {
   "cell_type": "code",
   "execution_count": 2,
   "id": "c9110da6-b81d-4550-b18b-f2a504d3d5a2",
   "metadata": {},
   "outputs": [
    {
     "name": "stderr",
     "output_type": "stream",
     "text": [
      "[I 2025-02-23 17:27:42,445] A new study created in memory with name: no-name-a092ee13-2c37-489b-bfe6-2e5638537ae4\n",
      "[I 2025-02-23 17:30:27,058] Trial 0 finished with value: 0.5307092137521356 and parameters: {'C': 0.013966587479225454, 'kernel': 'rbf', 'gamma': 'auto'}. Best is trial 0 with value: 0.5307092137521356.\n",
      "[I 2025-02-23 17:33:01,878] Trial 1 finished with value: 0.640525783447042 and parameters: {'C': 0.026445524645091947, 'kernel': 'poly', 'gamma': 'auto'}. Best is trial 1 with value: 0.640525783447042.\n",
      "[I 2025-02-23 17:34:40,833] Trial 2 finished with value: 0.5035064935918458 and parameters: {'C': 25.668200401590287, 'kernel': 'sigmoid', 'gamma': 'auto'}. Best is trial 1 with value: 0.640525783447042.\n",
      "[I 2025-02-23 17:36:56,235] Trial 3 finished with value: 0.5632790628845379 and parameters: {'C': 0.027112701350033394, 'kernel': 'linear', 'gamma': 'auto'}. Best is trial 1 with value: 0.640525783447042.\n"
     ]
    },
    {
     "name": "stdout",
     "output_type": "stream",
     "text": [
      "✅ Best SVM Parameters: {'C': 0.026445524645091947, 'kernel': 'poly', 'gamma': 'auto'}\n",
      "✅ Best SVM Accuracy (Optuna): 0.6405\n",
      "✅ Final Tuned SVM Accuracy (With PCA): 0.5771\n",
      "✅ Final Classification Report:\n",
      "               precision    recall  f1-score   support\n",
      "\n",
      "         0.0       0.70      0.64      0.66      1889\n",
      "         1.0       0.40      0.46      0.43       979\n",
      "\n",
      "    accuracy                           0.58      2868\n",
      "   macro avg       0.55      0.55      0.55      2868\n",
      "weighted avg       0.59      0.58      0.58      2868\n",
      "\n"
     ]
    }
   ],
   "source": [
    "import optuna\n",
    "from sklearn.model_selection import cross_val_score\n",
    "import numpy as np\n",
    "from sklearn.svm import SVC\n",
    "from sklearn.metrics import accuracy_score, classification_report\n",
    "from imblearn.over_sampling import SMOTE\n",
    "\n",
    "def objective(trial):\n",
    "    C = trial.suggest_float(\"C\", 0.0001, 1000, log=True)  # SVM regularization\n",
    "    kernel = trial.suggest_categorical(\"kernel\", [\"linear\", \"rbf\", \"poly\", \"sigmoid\"])\n",
    "    gamma = trial.suggest_categorical(\"gamma\", [\"scale\", \"auto\"])  # Kernel coefficient\n",
    "\n",
    "    model = SVC(C=C, kernel=kernel, gamma=gamma, class_weight=\"balanced\", random_state=42)\n",
    "\n",
    "    #Cross-validation for accuracy\n",
    "    score = cross_val_score(model, X_train_resampled, y_train_resampled, cv=5, scoring=\"accuracy\").mean()\n",
    "    \n",
    "    return score\n",
    "\n",
    "#Run Optuna\n",
    "study = optuna.create_study(direction=\"maximize\")\n",
    "study.optimize(objective, n_trials=4)\n",
    "\n",
    "best_params_svm = study.best_params\n",
    "print(f\"✅ Best SVM Parameters: {best_params_svm}\")\n",
    "print(f\"✅ Best SVM Accuracy (Optuna): {study.best_value:.4f}\")\n",
    "\n",
    "#Train Final SVM Model\n",
    "best_svm = SVC(\n",
    "    C=best_params_svm[\"C\"], kernel=best_params_svm[\"kernel\"], gamma=best_params_svm[\"gamma\"],\n",
    "    class_weight=\"balanced\", random_state=42\n",
    ")\n",
    "\n",
    "best_svm.fit(X_train_resampled, y_train_resampled)\n",
    "y_pred_best_svm = best_svm.predict(X_test_pca)\n",
    "accuracy_best_svm = accuracy_score(y_test, y_pred_best_svm)\n",
    "print(f\"✅ Final Tuned SVM Accuracy (With PCA): {accuracy_best_svm:.4f}\")\n",
    "print(\"✅ Final Classification Report:\\n\", classification_report(y_test, y_pred_best_svm))\n"
   ]
  },
  {
   "cell_type": "code",
   "execution_count": 4,
   "id": "2e9e2297-9d4e-41d1-b5a5-12e691be9d35",
   "metadata": {},
   "outputs": [
    {
     "name": "stdout",
     "output_type": "stream",
     "text": [
      "✅ Training Set Shape After SMOTE: (15108, 300)\n",
      "✅ Class Distribution After SMOTE: [7554 7554]\n",
      "✅ Decision Tree Accuracy (No Tuning): 0.5732\n",
      "✅ Classification Report:\n",
      "               precision    recall  f1-score   support\n",
      "\n",
      "         0.0       0.69      0.63      0.66      1889\n",
      "         1.0       0.39      0.46      0.43       979\n",
      "\n",
      "    accuracy                           0.57      2868\n",
      "   macro avg       0.54      0.55      0.54      2868\n",
      "weighted avg       0.59      0.57      0.58      2868\n",
      "\n"
     ]
    }
   ],
   "source": [
    "import numpy as np\n",
    "from sklearn.tree import DecisionTreeClassifier\n",
    "from sklearn.metrics import accuracy_score, classification_report\n",
    "from imblearn.over_sampling import SMOTE\n",
    "\n",
    "X_train_pca = np.load(\"X_train_pca.npy\")\n",
    "X_test_pca = np.load(\"X_test_pca.npy\")\n",
    "y_train = np.load(\"y_train.npy\")\n",
    "y_test = np.load(\"y_test.npy\")\n",
    "\n",
    "#SMOTE to Balance Classes\n",
    "smote = SMOTE(sampling_strategy='auto', random_state=42)\n",
    "X_train_resampled, y_train_resampled = smote.fit_resample(X_train_pca, y_train)\n",
    "\n",
    "print(f\"✅ Training Set Shape After SMOTE: {X_train_resampled.shape}\")\n",
    "print(f\"✅ Class Distribution After SMOTE: {np.bincount(y_train_resampled.astype(int))}\")\n",
    "\n",
    "#Train Basic Decision Tree\n",
    "dt_clf = DecisionTreeClassifier(random_state=42)\n",
    "dt_clf.fit(X_train_resampled, y_train_resampled)\n",
    "y_pred_dt = dt_clf.predict(X_test_pca)\n",
    "\n",
    "accuracy_dt = accuracy_score(y_test, y_pred_dt)\n",
    "print(f\"✅ Decision Tree Accuracy (No Tuning): {accuracy_dt:.4f}\")\n",
    "print(\"✅ Classification Report:\\n\", classification_report(y_test, y_pred_dt))\n"
   ]
  },
  {
   "cell_type": "code",
   "execution_count": 5,
   "id": "a17e8bda-f3da-4aac-bda8-e3527367add1",
   "metadata": {},
   "outputs": [
    {
     "name": "stderr",
     "output_type": "stream",
     "text": [
      "[I 2025-02-23 17:41:21,407] A new study created in memory with name: no-name-c2377761-7665-477c-98c3-f5a13e403eff\n",
      "[I 2025-02-23 17:41:43,754] Trial 0 finished with value: 0.6213311145826557 and parameters: {'max_depth': 25, 'min_samples_split': 10, 'min_samples_leaf': 3, 'criterion': 'gini'}. Best is trial 0 with value: 0.6213311145826557.\n",
      "[I 2025-02-23 17:42:07,218] Trial 1 finished with value: 0.6255668515844636 and parameters: {'max_depth': 39, 'min_samples_split': 9, 'min_samples_leaf': 3, 'criterion': 'gini'}. Best is trial 1 with value: 0.6255668515844636.\n",
      "[I 2025-02-23 17:42:36,861] Trial 2 finished with value: 0.6150433837174633 and parameters: {'max_depth': 36, 'min_samples_split': 18, 'min_samples_leaf': 4, 'criterion': 'entropy'}. Best is trial 1 with value: 0.6255668515844636.\n",
      "[I 2025-02-23 17:42:43,727] Trial 3 finished with value: 0.5376008356242679 and parameters: {'max_depth': 4, 'min_samples_split': 13, 'min_samples_leaf': 9, 'criterion': 'gini'}. Best is trial 1 with value: 0.6255668515844636.\n",
      "[I 2025-02-23 17:43:07,472] Trial 4 finished with value: 0.6257655708518202 and parameters: {'max_depth': 35, 'min_samples_split': 2, 'min_samples_leaf': 3, 'criterion': 'gini'}. Best is trial 4 with value: 0.6257655708518202.\n",
      "[I 2025-02-23 17:43:29,951] Trial 5 finished with value: 0.6161027889704782 and parameters: {'max_depth': 45, 'min_samples_split': 11, 'min_samples_leaf': 7, 'criterion': 'gini'}. Best is trial 4 with value: 0.6257655708518202.\n",
      "[I 2025-02-23 17:43:52,923] Trial 6 finished with value: 0.6245086074075339 and parameters: {'max_depth': 29, 'min_samples_split': 13, 'min_samples_leaf': 3, 'criterion': 'gini'}. Best is trial 4 with value: 0.6257655708518202.\n",
      "[I 2025-02-23 17:44:15,812] Trial 7 finished with value: 0.6172945788043152 and parameters: {'max_depth': 41, 'min_samples_split': 4, 'min_samples_leaf': 6, 'criterion': 'gini'}. Best is trial 4 with value: 0.6257655708518202.\n",
      "[I 2025-02-23 17:44:45,122] Trial 8 finished with value: 0.622324075613656 and parameters: {'max_depth': 25, 'min_samples_split': 4, 'min_samples_leaf': 4, 'criterion': 'entropy'}. Best is trial 4 with value: 0.6257655708518202.\n",
      "[I 2025-02-23 17:45:00,968] Trial 9 finished with value: 0.5804922130132093 and parameters: {'max_depth': 11, 'min_samples_split': 15, 'min_samples_leaf': 5, 'criterion': 'gini'}. Best is trial 4 with value: 0.6257655708518202.\n",
      "[I 2025-02-23 17:45:31,118] Trial 10 finished with value: 0.6335766335409468 and parameters: {'max_depth': 50, 'min_samples_split': 2, 'min_samples_leaf': 1, 'criterion': 'entropy'}. Best is trial 10 with value: 0.6335766335409468.\n",
      "[I 2025-02-23 17:46:01,482] Trial 11 finished with value: 0.6335766335409468 and parameters: {'max_depth': 50, 'min_samples_split': 2, 'min_samples_leaf': 1, 'criterion': 'entropy'}. Best is trial 10 with value: 0.6335766335409468.\n",
      "[I 2025-02-23 17:46:31,811] Trial 12 finished with value: 0.6323189471624943 and parameters: {'max_depth': 46, 'min_samples_split': 7, 'min_samples_leaf': 1, 'criterion': 'entropy'}. Best is trial 10 with value: 0.6335766335409468.\n",
      "[I 2025-02-23 17:47:02,080] Trial 13 finished with value: 0.6335766335409468 and parameters: {'max_depth': 48, 'min_samples_split': 2, 'min_samples_leaf': 1, 'criterion': 'entropy'}. Best is trial 10 with value: 0.6335766335409468.\n",
      "[I 2025-02-23 17:47:32,565] Trial 14 finished with value: 0.6345029312789736 and parameters: {'max_depth': 50, 'min_samples_split': 6, 'min_samples_leaf': 1, 'criterion': 'entropy'}. Best is trial 14 with value: 0.6345029312789736.\n"
     ]
    },
    {
     "name": "stdout",
     "output_type": "stream",
     "text": [
      "✅ Best Decision Tree Parameters: {'max_depth': 50, 'min_samples_split': 6, 'min_samples_leaf': 1, 'criterion': 'entropy'}\n",
      "✅ Best Decision Tree Accuracy (Optuna): 0.6345\n",
      "✅ Final Tuned Decision Tree Accuracy: 0.5614\n",
      "✅ Final Classification Report:\n",
      "               precision    recall  f1-score   support\n",
      "\n",
      "         0.0       0.69      0.61      0.65      1889\n",
      "         1.0       0.38      0.46      0.42       979\n",
      "\n",
      "    accuracy                           0.56      2868\n",
      "   macro avg       0.53      0.54      0.53      2868\n",
      "weighted avg       0.58      0.56      0.57      2868\n",
      "\n"
     ]
    }
   ],
   "source": [
    "import optuna\n",
    "from sklearn.model_selection import cross_val_score\n",
    "\n",
    "def objective(trial):\n",
    "    max_depth = trial.suggest_int(\"max_depth\", 3, 50)  # Limits tree depth\n",
    "    min_samples_split = trial.suggest_int(\"min_samples_split\", 2, 20)  # Min samples for split\n",
    "    min_samples_leaf = trial.suggest_int(\"min_samples_leaf\", 1, 10)  # Min samples for leaf node\n",
    "    criterion = trial.suggest_categorical(\"criterion\", [\"gini\", \"entropy\"])  # Split quality metric\n",
    "\n",
    "    model = DecisionTreeClassifier(\n",
    "        max_depth=max_depth, min_samples_split=min_samples_split,\n",
    "        min_samples_leaf=min_samples_leaf, criterion=criterion, random_state=42\n",
    "    )\n",
    "\n",
    "    #Cross-validation for accuracy\n",
    "    score = cross_val_score(model, X_train_resampled, y_train_resampled, cv=5, scoring=\"accuracy\").mean()\n",
    "    \n",
    "    return score\n",
    "\n",
    "#Run Optuna\n",
    "study = optuna.create_study(direction=\"maximize\")\n",
    "study.optimize(objective, n_trials=15)\n",
    "\n",
    "best_params_dt = study.best_params\n",
    "print(f\"✅ Best Decision Tree Parameters: {best_params_dt}\")\n",
    "print(f\"✅ Best Decision Tree Accuracy (Optuna): {study.best_value:.4f}\")\n",
    "\n",
    "#Train Final Decision Tree Model\n",
    "best_dt = DecisionTreeClassifier(\n",
    "    max_depth=best_params_dt[\"max_depth\"],\n",
    "    min_samples_split=best_params_dt[\"min_samples_split\"],\n",
    "    min_samples_leaf=best_params_dt[\"min_samples_leaf\"],\n",
    "    criterion=best_params_dt[\"criterion\"],\n",
    "    random_state=42\n",
    ")\n",
    "\n",
    "best_dt.fit(X_train_resampled, y_train_resampled)\n",
    "y_pred_best_dt = best_dt.predict(X_test_pca)\n",
    "\n",
    "accuracy_best_dt = accuracy_score(y_test, y_pred_best_dt)\n",
    "print(f\"✅ Final Tuned Decision Tree Accuracy: {accuracy_best_dt:.4f}\")\n",
    "print(\"✅ Final Classification Report:\\n\", classification_report(y_test, y_pred_best_dt))\n"
   ]
  },
  {
   "cell_type": "code",
   "execution_count": 18,
   "id": "e201d438-a821-4998-9585-167c956ef6d6",
   "metadata": {},
   "outputs": [
    {
     "name": "stdout",
     "output_type": "stream",
     "text": [
      "✅ Training Set Shape After SMOTE: (15108, 300)\n",
      "✅ Class Distribution After SMOTE: [7554 7554]\n",
      "✅ Random Forest Accuracy (No Tuning): 0.6433\n",
      "✅ Classification Report:\n",
      "               precision    recall  f1-score   support\n",
      "\n",
      "         0.0       0.68      0.86      0.76      1889\n",
      "         1.0       0.46      0.23      0.31       979\n",
      "\n",
      "    accuracy                           0.64      2868\n",
      "   macro avg       0.57      0.54      0.53      2868\n",
      "weighted avg       0.60      0.64      0.60      2868\n",
      "\n"
     ]
    }
   ],
   "source": [
    "import numpy as np\n",
    "from sklearn.ensemble import RandomForestClassifier\n",
    "from sklearn.metrics import accuracy_score, classification_report\n",
    "from imblearn.over_sampling import SMOTE\n",
    "\n",
    "X_train_pca = np.load(\"X_train_pca.npy\")\n",
    "X_test_pca = np.load(\"X_test_pca.npy\")\n",
    "y_train = np.load(\"y_train.npy\")\n",
    "y_test = np.load(\"y_test.npy\")\n",
    "\n",
    "#SMOTE to Balance Classes\n",
    "smote = SMOTE(sampling_strategy='auto', random_state=42)\n",
    "X_train_resampled, y_train_resampled = smote.fit_resample(X_train_pca, y_train)\n",
    "\n",
    "print(f\"✅ Training Set Shape After SMOTE: {X_train_resampled.shape}\")\n",
    "print(f\"✅ Class Distribution After SMOTE: {np.bincount(y_train_resampled.astype(int))}\")\n",
    "\n",
    "#Train Basic Random Forest\n",
    "rf_clf = RandomForestClassifier(n_estimators=100, random_state=42, class_weight=\"balanced\")\n",
    "rf_clf.fit(X_train_resampled, y_train_resampled)\n",
    "y_pred_rf = rf_clf.predict(X_test_pca)\n",
    "\n",
    "accuracy_rf = accuracy_score(y_test, y_pred_rf)\n",
    "print(f\"✅ Random Forest Accuracy (No Tuning): {accuracy_rf:.4f}\")\n",
    "print(\"✅ Classification Report:\\n\", classification_report(y_test, y_pred_rf))\n"
   ]
  },
  {
   "cell_type": "code",
   "execution_count": 19,
   "id": "92adf612-c845-49d5-95a0-08744de6f93c",
   "metadata": {},
   "outputs": [
    {
     "name": "stderr",
     "output_type": "stream",
     "text": [
      "[I 2025-02-23 19:11:49,598] A new study created in memory with name: no-name-5506207a-f537-4ad8-be82-9562e3b8ceb5\n",
      "[I 2025-02-23 19:12:27,354] Trial 0 finished with value: 0.7732469010769747 and parameters: {'n_estimators': 176, 'max_depth': 26, 'min_samples_split': 12, 'min_samples_leaf': 10, 'criterion': 'entropy'}. Best is trial 0 with value: 0.7732469010769747.\n",
      "[I 2025-02-23 19:12:43,228] Trial 1 finished with value: 0.764772272451542 and parameters: {'n_estimators': 87, 'max_depth': 41, 'min_samples_split': 6, 'min_samples_leaf': 7, 'criterion': 'gini'}. Best is trial 0 with value: 0.7732469010769747.\n",
      "[I 2025-02-23 19:13:52,164] Trial 2 finished with value: 0.7938976469807312 and parameters: {'n_estimators': 269, 'max_depth': 41, 'min_samples_split': 15, 'min_samples_leaf': 5, 'criterion': 'entropy'}. Best is trial 2 with value: 0.7938976469807312.\n",
      "[I 2025-02-23 19:14:37,857] Trial 3 finished with value: 0.7736430032788351 and parameters: {'n_estimators': 190, 'max_depth': 21, 'min_samples_split': 11, 'min_samples_leaf': 8, 'criterion': 'entropy'}. Best is trial 2 with value: 0.7938976469807312.\n",
      "[I 2025-02-23 19:15:06,540] Trial 4 finished with value: 0.788734955028018 and parameters: {'n_estimators': 139, 'max_depth': 42, 'min_samples_split': 18, 'min_samples_leaf': 2, 'criterion': 'gini'}. Best is trial 2 with value: 0.7938976469807312.\n",
      "[I 2025-02-23 19:15:40,428] Trial 5 finished with value: 0.7782094498010945 and parameters: {'n_estimators': 121, 'max_depth': 23, 'min_samples_split': 4, 'min_samples_leaf': 5, 'criterion': 'entropy'}. Best is trial 2 with value: 0.7938976469807312.\n",
      "[I 2025-02-23 19:16:08,439] Trial 6 finished with value: 0.7752316182486986 and parameters: {'n_estimators': 142, 'max_depth': 20, 'min_samples_split': 18, 'min_samples_leaf': 5, 'criterion': 'gini'}. Best is trial 2 with value: 0.7938976469807312.\n",
      "[I 2025-02-23 19:16:37,907] Trial 7 finished with value: 0.7737758917228639 and parameters: {'n_estimators': 146, 'max_depth': 44, 'min_samples_split': 20, 'min_samples_leaf': 8, 'criterion': 'gini'}. Best is trial 2 with value: 0.7938976469807312.\n",
      "[I 2025-02-23 19:17:08,646] Trial 8 finished with value: 0.7905875505040713 and parameters: {'n_estimators': 130, 'max_depth': 43, 'min_samples_split': 15, 'min_samples_leaf': 1, 'criterion': 'gini'}. Best is trial 2 with value: 0.7938976469807312.\n",
      "[I 2025-02-23 19:17:34,660] Trial 9 finished with value: 0.7298895378500945 and parameters: {'n_estimators': 175, 'max_depth': 10, 'min_samples_split': 5, 'min_samples_leaf': 5, 'criterion': 'gini'}. Best is trial 2 with value: 0.7938976469807312.\n",
      "[I 2025-02-23 19:19:07,447] Trial 10 finished with value: 0.804819342037899 and parameters: {'n_estimators': 289, 'max_depth': 33, 'min_samples_split': 11, 'min_samples_leaf': 2, 'criterion': 'entropy'}. Best is trial 10 with value: 0.804819342037899.\n",
      "[I 2025-02-23 19:20:50,731] Trial 11 finished with value: 0.8056132113809117 and parameters: {'n_estimators': 295, 'max_depth': 33, 'min_samples_split': 10, 'min_samples_leaf': 3, 'criterion': 'entropy'}. Best is trial 11 with value: 0.8056132113809117.\n",
      "[I 2025-02-23 19:22:54,370] Trial 12 finished with value: 0.8032306394396516 and parameters: {'n_estimators': 300, 'max_depth': 33, 'min_samples_split': 9, 'min_samples_leaf': 3, 'criterion': 'entropy'}. Best is trial 11 with value: 0.8056132113809117.\n",
      "[I 2025-02-23 19:24:42,616] Trial 13 finished with value: 0.8038261838430347 and parameters: {'n_estimators': 246, 'max_depth': 33, 'min_samples_split': 8, 'min_samples_leaf': 3, 'criterion': 'entropy'}. Best is trial 11 with value: 0.8056132113809117.\n",
      "[I 2025-02-23 19:26:23,124] Trial 14 finished with value: 0.8055470300440486 and parameters: {'n_estimators': 233, 'max_depth': 32, 'min_samples_split': 2, 'min_samples_leaf': 3, 'criterion': 'entropy'}. Best is trial 11 with value: 0.8056132113809117.\n"
     ]
    },
    {
     "name": "stdout",
     "output_type": "stream",
     "text": [
      "✅ Best Random Forest Parameters: {'n_estimators': 295, 'max_depth': 33, 'min_samples_split': 10, 'min_samples_leaf': 3, 'criterion': 'entropy'}\n",
      "✅ Best Random Forest Accuracy (Optuna): 0.8056\n",
      "✅ Final Tuned Random Forest Accuracy: 0.6583\n",
      "✅ Final Classification Report:\n",
      "               precision    recall  f1-score   support\n",
      "\n",
      "         0.0       0.69      0.87      0.77      1889\n",
      "         1.0       0.50      0.26      0.34       979\n",
      "\n",
      "    accuracy                           0.66      2868\n",
      "   macro avg       0.60      0.56      0.55      2868\n",
      "weighted avg       0.63      0.66      0.62      2868\n",
      "\n"
     ]
    }
   ],
   "source": [
    "import optuna\n",
    "from sklearn.model_selection import cross_val_score\n",
    "\n",
    "def objective(trial):\n",
    "    n_estimators = trial.suggest_int(\"n_estimators\", 50, 300)  # Number of trees\n",
    "    max_depth = trial.suggest_int(\"max_depth\", 5, 50)  # Limits tree depth\n",
    "    min_samples_split = trial.suggest_int(\"min_samples_split\", 2, 20)  # Min samples for split\n",
    "    min_samples_leaf = trial.suggest_int(\"min_samples_leaf\", 1, 10)  # Min samples for leaf node\n",
    "    criterion = trial.suggest_categorical(\"criterion\", [\"gini\", \"entropy\"])  # Split quality metric\n",
    "\n",
    "    model = RandomForestClassifier(\n",
    "        n_estimators=n_estimators, max_depth=max_depth, min_samples_split=min_samples_split,\n",
    "        min_samples_leaf=min_samples_leaf, criterion=criterion, class_weight=\"balanced\",\n",
    "        random_state=42, n_jobs=-1\n",
    "    )\n",
    "\n",
    "    #Cross-validation for accuracy\n",
    "    score = cross_val_score(model, X_train_resampled, y_train_resampled, cv=5, scoring=\"accuracy\", n_jobs=-1).mean()\n",
    "    \n",
    "    return score\n",
    "\n",
    "#Run Optuna\n",
    "study = optuna.create_study(direction=\"maximize\")\n",
    "study.optimize(objective, n_trials=15)\n",
    "best_params_rf = study.best_params\n",
    "print(f\"✅ Best Random Forest Parameters: {best_params_rf}\")\n",
    "print(f\"✅ Best Random Forest Accuracy (Optuna): {study.best_value:.4f}\")\n",
    "\n",
    "#Train Final Random Forest Model\n",
    "best_rf = RandomForestClassifier(\n",
    "    n_estimators=best_params_rf[\"n_estimators\"],\n",
    "    max_depth=best_params_rf[\"max_depth\"],\n",
    "    min_samples_split=best_params_rf[\"min_samples_split\"],\n",
    "    min_samples_leaf=best_params_rf[\"min_samples_leaf\"],\n",
    "    criterion=best_params_rf[\"criterion\"],\n",
    "    class_weight=\"balanced\",\n",
    "    random_state=42,\n",
    "    n_jobs=-1\n",
    ")\n",
    "\n",
    "best_rf.fit(X_train_resampled, y_train_resampled)\n",
    "y_pred_best_rf = best_rf.predict(X_test_pca)\n",
    "\n",
    "accuracy_best_rf = accuracy_score(y_test, y_pred_best_rf)\n",
    "print(f\"✅ Final Tuned Random Forest Accuracy: {accuracy_best_rf:.4f}\")\n",
    "print(\"✅ Final Classification Report:\\n\", classification_report(y_test, y_pred_best_rf))\n"
   ]
  },
  {
   "cell_type": "code",
   "execution_count": 10,
   "id": "f9fd917b-6cb3-4ae1-888e-d35986dd3c2b",
   "metadata": {},
   "outputs": [
    {
     "name": "stdout",
     "output_type": "stream",
     "text": [
      "✅ Training Set Shape After SMOTE: (15108, 300)\n",
      "✅ Class Distribution After SMOTE: [7554 7554]\n",
      "✅ k-NN Accuracy (No Tuning): 0.5293\n",
      "✅ Classification Report:\n",
      "               precision    recall  f1-score   support\n",
      "\n",
      "         0.0       0.68      0.55      0.60      1889\n",
      "         1.0       0.36      0.50      0.42       979\n",
      "\n",
      "    accuracy                           0.53      2868\n",
      "   macro avg       0.52      0.52      0.51      2868\n",
      "weighted avg       0.57      0.53      0.54      2868\n",
      "\n"
     ]
    }
   ],
   "source": [
    "import numpy as np\n",
    "from sklearn.neighbors import KNeighborsClassifier\n",
    "from sklearn.metrics import accuracy_score, classification_report\n",
    "from imblearn.over_sampling import SMOTE\n",
    "\n",
    "X_train_pca = np.load(\"X_train_pca.npy\")\n",
    "X_test_pca = np.load(\"X_test_pca.npy\")\n",
    "y_train = np.load(\"y_train.npy\")\n",
    "y_test = np.load(\"y_test.npy\")\n",
    "\n",
    "#SMOTE to Balance Classes\n",
    "smote = SMOTE(sampling_strategy='auto', random_state=42)\n",
    "X_train_resampled, y_train_resampled = smote.fit_resample(X_train_pca, y_train)\n",
    "\n",
    "print(f\"✅ Training Set Shape After SMOTE: {X_train_resampled.shape}\")\n",
    "print(f\"✅ Class Distribution After SMOTE: {np.bincount(y_train_resampled.astype(int))}\")\n",
    "\n",
    "#Train Basic k-NN\n",
    "knn_clf = KNeighborsClassifier(n_neighbors=10, n_jobs=-1) \n",
    "knn_clf.fit(X_train_resampled, y_train_resampled)\n",
    "y_pred_knn = knn_clf.predict(X_test_pca)\n",
    "\n",
    "accuracy_knn = accuracy_score(y_test, y_pred_knn)\n",
    "print(f\"✅ k-NN Accuracy (No Tuning): {accuracy_knn:.4f}\")\n",
    "print(\"✅ Classification Report:\\n\", classification_report(y_test, y_pred_knn))\n"
   ]
  },
  {
   "cell_type": "code",
   "execution_count": 11,
   "id": "c8815638-5f01-48d7-83e7-e49da7c3767a",
   "metadata": {},
   "outputs": [
    {
     "name": "stderr",
     "output_type": "stream",
     "text": [
      "[I 2025-02-23 17:57:29,600] A new study created in memory with name: no-name-16b024a6-9963-41af-a446-42a265c21d68\n",
      "[I 2025-02-23 17:57:40,956] Trial 0 finished with value: 0.6519062748212867 and parameters: {'n_neighbors': 4, 'weights': 'uniform', 'metric': 'manhattan'}. Best is trial 0 with value: 0.6519062748212867.\n",
      "[I 2025-02-23 17:57:51,691] Trial 1 finished with value: 0.641580619539317 and parameters: {'n_neighbors': 11, 'weights': 'distance', 'metric': 'manhattan'}. Best is trial 0 with value: 0.6519062748212867.\n",
      "[I 2025-02-23 17:57:53,034] Trial 2 finished with value: 0.5839290442149855 and parameters: {'n_neighbors': 14, 'weights': 'uniform', 'metric': 'minkowski'}. Best is trial 0 with value: 0.6519062748212867.\n",
      "[I 2025-02-23 17:58:03,447] Trial 3 finished with value: 0.6642176330420969 and parameters: {'n_neighbors': 5, 'weights': 'distance', 'metric': 'manhattan'}. Best is trial 3 with value: 0.6642176330420969.\n",
      "[I 2025-02-23 17:58:04,850] Trial 4 finished with value: 0.6696452210749273 and parameters: {'n_neighbors': 8, 'weights': 'distance', 'metric': 'minkowski'}. Best is trial 4 with value: 0.6696452210749273.\n",
      "[I 2025-02-23 17:58:05,862] Trial 5 finished with value: 0.6148398199629336 and parameters: {'n_neighbors': 8, 'weights': 'uniform', 'metric': 'minkowski'}. Best is trial 4 with value: 0.6696452210749273.\n",
      "[I 2025-02-23 17:58:16,569] Trial 6 finished with value: 0.598821816256288 and parameters: {'n_neighbors': 9, 'weights': 'uniform', 'metric': 'manhattan'}. Best is trial 4 with value: 0.6696452210749273.\n",
      "[I 2025-02-23 17:58:17,591] Trial 7 finished with value: 0.6657400052952078 and parameters: {'n_neighbors': 7, 'weights': 'distance', 'metric': 'euclidean'}. Best is trial 4 with value: 0.6696452210749273.\n",
      "[I 2025-02-23 17:58:27,985] Trial 8 finished with value: 0.6485305798252582 and parameters: {'n_neighbors': 9, 'weights': 'distance', 'metric': 'manhattan'}. Best is trial 4 with value: 0.6696452210749273.\n",
      "[I 2025-02-23 17:58:29,055] Trial 9 finished with value: 0.6696452210749273 and parameters: {'n_neighbors': 8, 'weights': 'distance', 'metric': 'minkowski'}. Best is trial 4 with value: 0.6696452210749273.\n"
     ]
    },
    {
     "name": "stdout",
     "output_type": "stream",
     "text": [
      "✅ Best k-NN Parameters: {'n_neighbors': 8, 'weights': 'distance', 'metric': 'minkowski'}\n",
      "✅ Best k-NN Accuracy (Optuna): 0.6696\n",
      "✅ Final Tuned k-NN Accuracy: 0.5199\n",
      "✅ Final Classification Report:\n",
      "               precision    recall  f1-score   support\n",
      "\n",
      "         0.0       0.69      0.49      0.57      1889\n",
      "         1.0       0.37      0.58      0.45       979\n",
      "\n",
      "    accuracy                           0.52      2868\n",
      "   macro avg       0.53      0.53      0.51      2868\n",
      "weighted avg       0.58      0.52      0.53      2868\n",
      "\n"
     ]
    }
   ],
   "source": [
    "import optuna\n",
    "from sklearn.model_selection import cross_val_score\n",
    "\n",
    "def objective(trial):\n",
    "    n_neighbors = trial.suggest_int(\"n_neighbors\", 3, 15)  # Limit k-values\n",
    "    weights = trial.suggest_categorical(\"weights\", [\"uniform\", \"distance\"])  # Weighting method\n",
    "    metric = trial.suggest_categorical(\"metric\", [\"euclidean\", \"manhattan\", \"minkowski\"])  # Distance metric\n",
    "\n",
    "    model = KNeighborsClassifier(n_neighbors=n_neighbors, weights=weights, metric=metric, n_jobs=-1)\n",
    "\n",
    "    #Cross-validation for accuracy\n",
    "    score = cross_val_score(model, X_train_resampled, y_train_resampled, cv=3, scoring=\"accuracy\", n_jobs=-1).mean()\n",
    "    \n",
    "    return score\n",
    "\n",
    "#Run Optuna Optimization (Only 10 Trials to Avoid Overload)\n",
    "study = optuna.create_study(direction=\"maximize\")\n",
    "study.optimize(objective, n_trials=10)\n",
    "best_params_knn = study.best_params\n",
    "print(f\"✅ Best k-NN Parameters: {best_params_knn}\")\n",
    "print(f\"✅ Best k-NN Accuracy (Optuna): {study.best_value:.4f}\")\n",
    "\n",
    "#Train Final k-NN Model\n",
    "best_knn = KNeighborsClassifier(\n",
    "    n_neighbors=best_params_knn[\"n_neighbors\"],\n",
    "    weights=best_params_knn[\"weights\"],\n",
    "    metric=best_params_knn[\"metric\"],\n",
    "    n_jobs=-1\n",
    ")\n",
    "\n",
    "best_knn.fit(X_train_resampled, y_train_resampled)\n",
    "y_pred_best_knn = best_knn.predict(X_test_pca)\n",
    "\n",
    "accuracy_best_knn = accuracy_score(y_test, y_pred_best_knn)\n",
    "print(f\"✅ Final Tuned k-NN Accuracy: {accuracy_best_knn:.4f}\")\n",
    "print(\"✅ Final Classification Report:\\n\", classification_report(y_test, y_pred_best_knn))\n"
   ]
  },
  {
   "cell_type": "code",
   "execution_count": 20,
   "id": "3a7d78be-8852-491b-879c-129a15cde49e",
   "metadata": {},
   "outputs": [],
   "source": [
    "import numpy as np\n",
    "import matplotlib.pyplot as plt\n",
    "import seaborn as sns\n",
    "from sklearn.metrics import roc_curve, auc, confusion_matrix, classification_report\n",
    "\n",
    "X_test_pca = np.load(\"X_test_pca.npy\")\n",
    "y_test = np.load(\"y_test.npy\")\n",
    "models = {\n",
    "    \"Logistic Regression\": best_log_reg,\n",
    "    \"SVM\": best_svm,\n",
    "    \"Decision Tree\": best_dt,\n",
    "    \"Random Forest\": best_rf,\n",
    "    \"k-NN\": best_knn\n",
    "}\n",
    "\n",
    "y_scores = {}  #Store probability scores for ROC-AUC\n",
    "y_preds = {}   #Store final predictions\n"
   ]
  },
  {
   "cell_type": "code",
   "execution_count": 21,
   "id": "e1fbcaac-bfa8-4fd0-9f93-4090b8bb5c64",
   "metadata": {},
   "outputs": [
    {
     "data": {
      "image/png": "[encoded data removed]",
      "text/plain": [
       "<Figure size 1200x600 with 1 Axes>"
      ]
     },
     "metadata": {},
     "output_type": "display_data"
    }
   ],
   "source": [
    "plt.figure(figsize=(12, 6))\n",
    "\n",
    "for name, model in models.items():\n",
    "    if hasattr(model, \"predict_proba\"):\n",
    "        y_scores[name] = model.predict_proba(X_test_pca)[:, 1]  # Probabilities for class 1\n",
    "    else:\n",
    "        y_scores[name] = model.decision_function(X_test_pca)  # SVM uses decision_function\n",
    "\n",
    "    #Compute ROC Curve\n",
    "    fpr, tpr, _ = roc_curve(y_test, y_scores[name])\n",
    "    roc_auc = auc(fpr, tpr)\n",
    "\n",
    "    #Plot ROC Curve\n",
    "    plt.plot(fpr, tpr, label=f\"{name} (AUC = {roc_auc:.4f})\")\n",
    "    y_preds[name] = model.predict(X_test_pca)\n",
    "\n",
    "plt.plot([0, 1], [0, 1], color=\"gray\", linestyle=\"--\")  # Diagonal line\n",
    "plt.xlabel(\"False Positive Rate\")\n",
    "plt.ylabel(\"True Positive Rate\")\n",
    "plt.title(\"ROC-AUC Curve for Tuned Models\")\n",
    "plt.legend()\n",
    "plt.show()\n"
   ]
  },
  {
   "cell_type": "code",
   "execution_count": 22,
   "id": "47d6070e-b483-4312-be74-d0bb678669c8",
   "metadata": {},
   "outputs": [
    {
     "data": {
      "image/png": "[encoded data removed]",
      "text/plain": [
       "<Figure size 1500x1000 with 11 Axes>"
      ]
     },
     "metadata": {},
     "output_type": "display_data"
    }
   ],
   "source": [
    "fig, axes = plt.subplots(2, 3, figsize=(15, 10))  # 2 rows, 3 columns\n",
    "\n",
    "for idx, (name, y_pred) in enumerate(y_preds.items()):\n",
    "    cm = confusion_matrix(y_test, y_pred)\n",
    "\n",
    "    ax = axes[idx // 3, idx % 3]  # Place in grid\n",
    "    sns.heatmap(cm, annot=True, fmt=\"d\", cmap=\"Blues\", ax=ax)\n",
    "\n",
    "    ax.set_title(f\"{name} Confusion Matrix\")\n",
    "    ax.set_xlabel(\"Predicted Label\")\n",
    "    ax.set_ylabel(\"True Label\")\n",
    "\n",
    "plt.tight_layout()\n",
    "plt.show()\n"
   ]
  }
 ],
 "metadata": {
  "kernelspec": {
   "display_name": "Python 3 (ipykernel)",
   "language": "python",
   "name": "python3"
  },
  "language_info": {
   "codemirror_mode": {
    "name": "ipython",
    "version": 3
   },
   "file_extension": ".py",
   "mimetype": "text/x-python",
   "name": "python",
   "nbconvert_exporter": "python",
   "pygments_lexer": "ipython3",
   "version": "3.12.4"
  }
 },
 "nbformat": 4,
 "nbformat_minor": 5
}
